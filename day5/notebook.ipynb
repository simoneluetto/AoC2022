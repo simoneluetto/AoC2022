{
 "cells": [
  {
   "cell_type": "code",
   "execution_count": 5,
   "metadata": {},
   "outputs": [
    {
     "name": "stdout",
     "output_type": "stream",
     "text": [
      "new_crates : ['ZND', 'MC', 'P']\n",
      "new_crates : ['', 'MC', 'PDNZ']\n",
      "new_crates : ['CM', '', 'PDNZ']\n",
      "new_crates : ['C', 'M', 'PDNZ']\n",
      "['C', 'M', 'PDNZ']\n",
      "CMZ\n"
     ]
    }
   ],
   "source": [
    "import string\n",
    "file = open('./input_dummy.txt', 'r')\n",
    "\n",
    "original_crates = [\n",
    "    'ZN',\n",
    "    'MCD',\n",
    "    'P',\n",
    "]\n",
    "\n",
    "crates = original_crates.copy()\n",
    "\n",
    "for line in file.readlines():\n",
    "    line = line.strip('\\n')\n",
    "    elems = line.split(' ')\n",
    "    assert elems[0]=='move' and elems[2]=='from' and elems[4]=='to'\n",
    "    crate_num = int(elems[1])\n",
    "    crate_from = int(elems[3])-1\n",
    "    crate_to = int(elems[5])-1\n",
    "    assert len(crates[crate_from])>=crate_num\n",
    "    moved = crates[crate_from][-crate_num:]\n",
    "    crates[crate_to] = crates[crate_to] + moved[::-1]\n",
    "    crates[crate_from] = crates[crate_from][:-crate_num]\n",
    "    print(f'new_crates : {crates}')\n",
    "\n",
    "print(crates)\n",
    "finals = [crate[-1] for crate in crates]\n",
    "print(''.join(finals))"
   ]
  },
  {
   "cell_type": "code",
   "execution_count": 6,
   "metadata": {},
   "outputs": [
    {
     "name": "stdout",
     "output_type": "stream",
     "text": [
      "['FNBGB', 'BSGS', 'VMBDZWRD', 'RWM', 'FPVWQ', 'HJLRDPFSPJVDNDCFF', 'NL', 'S', 'BCRHWLBQMQP']\n",
      "BSDMQFLSP\n"
     ]
    }
   ],
   "source": [
    "import string\n",
    "file = open('./input.txt', 'r')\n",
    "\n",
    "original_crates = [\n",
    "    'DBJV',\n",
    "    'PVBWRDF',\n",
    "    'RGFLDCWQ',\n",
    "    'WJPMLNDB',\n",
    "    'HNBPCSQ',\n",
    "    'RDBSNG',\n",
    "    'ZBPMQFSH',\n",
    "    'WLF',\n",
    "    'SVFMR'\n",
    "]\n",
    "\n",
    "crates = original_crates.copy()\n",
    "\n",
    "for line in file.readlines():\n",
    "    line = line.strip('\\n')\n",
    "    elems = line.split(' ')\n",
    "    assert elems[0]=='move' and elems[2]=='from' and elems[4]=='to'\n",
    "    crate_num = int(elems[1])\n",
    "    crate_from = int(elems[3])-1\n",
    "    crate_to = int(elems[5])-1\n",
    "    assert len(crates[crate_from])>=crate_num\n",
    "    moved = crates[crate_from][-crate_num:]\n",
    "    crates[crate_to] = crates[crate_to] + moved[::-1]\n",
    "    crates[crate_from] = crates[crate_from][:-crate_num]\n",
    "\n",
    "print(crates)\n",
    "finals = [crate[-1] for crate in crates]\n",
    "print(''.join(finals))"
   ]
  },
  {
   "cell_type": "code",
   "execution_count": 7,
   "metadata": {},
   "outputs": [
    {
     "name": "stdout",
     "output_type": "stream",
     "text": [
      "['FDMGP', 'DVZG', 'MRRSVBHS', 'SHQ', 'DLCNB', 'DPJWCBSNFLFWRQFWF', 'VL', 'D', 'WQBBPMBJRNP']\n",
      "PGSQBFLDP\n"
     ]
    }
   ],
   "source": [
    "crates = original_crates.copy()\n",
    "file = open('./input.txt', 'r')\n",
    "\n",
    "for line in file.readlines():\n",
    "    line = line.strip('\\n')\n",
    "    elems = line.split(' ')\n",
    "    assert elems[0]=='move' and elems[2]=='from' and elems[4]=='to'\n",
    "    crate_num = int(elems[1])\n",
    "    crate_from = int(elems[3])-1\n",
    "    crate_to = int(elems[5])-1\n",
    "    assert len(crates[crate_from])>=crate_num\n",
    "    moved = crates[crate_from][-crate_num:]\n",
    "    crates[crate_to] = crates[crate_to] + moved\n",
    "    crates[crate_from] = crates[crate_from][:-crate_num]\n",
    "\n",
    "print(crates)\n",
    "finals = [crate[-1] for crate in crates]\n",
    "print(''.join(finals))"
   ]
  }
 ],
 "metadata": {
  "kernelspec": {
   "display_name": "Python 3.8.13 ('pynupa_course')",
   "language": "python",
   "name": "python3"
  },
  "language_info": {
   "codemirror_mode": {
    "name": "ipython",
    "version": 3
   },
   "file_extension": ".py",
   "mimetype": "text/x-python",
   "name": "python",
   "nbconvert_exporter": "python",
   "pygments_lexer": "ipython3",
   "version": "3.8.13"
  },
  "orig_nbformat": 4,
  "vscode": {
   "interpreter": {
    "hash": "041698afb6ae7f3e3f9037630db0dedb57cb2fdd72f86d54b769ed60ecea8a86"
   }
  }
 },
 "nbformat": 4,
 "nbformat_minor": 2
}
