{
 "cells": [
  {
   "cell_type": "code",
   "execution_count": 11,
   "metadata": {},
   "outputs": [
    {
     "name": "stdout",
     "output_type": "stream",
     "text": [
      "readed jets line\n",
      "10091\n",
      "-159\n"
     ]
    }
   ],
   "source": [
    "import string\n",
    "from pathlib import Path\n",
    "from collections import defaultdict\n",
    "import json\n",
    "import numpy as np\n",
    "import math\n",
    "file = open('./input.txt', 'r')\n",
    "\n",
    "for line in file.readlines():\n",
    "    line = line.replace('\\n','')\n",
    "    jets = [1 if l=='>' else -1 for l in line]\n",
    "    jets2 = [l for l in line]\n",
    "    print(f'readed jets line')\n",
    "\n",
    "print(len(jets))\n",
    "print(sum(jets))"
   ]
  },
  {
   "cell_type": "code",
   "execution_count": 12,
   "metadata": {},
   "outputs": [
    {
     "name": "stdout",
     "output_type": "stream",
     "text": [
      "{0: array([[1.],\n",
      "       [1.],\n",
      "       [1.],\n",
      "       [1.]]), 1: array([[0., 1., 0.],\n",
      "       [1., 1., 1.],\n",
      "       [0., 1., 0.]]), 2: array([[1., 0., 0.],\n",
      "       [1., 0., 0.],\n",
      "       [1., 1., 1.]]), 3: array([[1., 1., 1., 1.]]), 4: array([[1., 1.],\n",
      "       [1., 1.]])}\n"
     ]
    }
   ],
   "source": [
    "rock_types = {\n",
    "    0: [2, 5, np.array([0,0,0,0]), np.array([1,1,1,1])],\n",
    "    1: [2, 4, np.array([1,0,1]), np.array([2,3,2])],\n",
    "    2: [2, 4, np.array([0,0,0]), np.array([1,1,3])],\n",
    "    3: [2, 2, np.array([0]), np.array([4])],\n",
    "    4: [2, 3, np.array([0,0]), np.array([2,2])],\n",
    "}\n",
    "rock_shapes = {}\n",
    "for idx, rock in rock_types.items():\n",
    "    x1, x2, min_heights, heights = rock\n",
    "    width = x2-x1+1\n",
    "    height = max(heights)\n",
    "    rock_shape = np.zeros((width,height))\n",
    "    for i in range(width):\n",
    "        rock_shape[i,min_heights[i]:heights[i]] = 1\n",
    "    rock_shapes[idx] = rock_shape\n",
    "\n",
    "print(rock_shapes)"
   ]
  },
  {
   "cell_type": "code",
   "execution_count": 13,
   "metadata": {},
   "outputs": [],
   "source": [
    "cave = np.zeros((7,6000))\n",
    "highest_point = 0\n",
    "num_rocks_stopped = 0\n",
    "rock_index = 0\n",
    "is_stopped = True\n",
    "\n",
    "def can_move(cave, move_x, rock_shape, x1, x2, y_pos):\n",
    "    y1 = int(min(y_pos))\n",
    "    old_window = cave[x1:x2+1, y1:y1+rock_shape.shape[1]]\n",
    "    window = cave[x1+move_x:x2+move_x+1, y1:y1+rock_shape.shape[1]]\n",
    "    assert window.shape == rock_shape.shape\n",
    "    ans = not (np.bitwise_and(window>0, rock_shape>0).any())\n",
    "\n",
    "    # if (np.bitwise_and(old_window>0, rock_shape>0).any()):\n",
    "    #     print(f'rock is on another rock moving l/r??')\n",
    "    #     visible_cave = cave.copy()\n",
    "    #     visible_cave[x1:x2+1, min(y_pos):min(y_pos)+rock_shape.shape[1]] += 2*rock_shape\n",
    "    #     print(f'with cave {visible_cave[:,:int(max(y_pos)+5)].T[::-1,:]}')\n",
    "    #     print(f'with y_pos : {y_pos}')\n",
    "    #     print(f'with x1, x2 : {x1},{x2}')\n",
    "    #     print(f'with shape {rock_shape.T[::-1,:]}')\n",
    "    #     print(f'window is {window.T[::-1,:]}')\n",
    "    #     print(f'can move is {ans}')\n",
    "    #     assert False\n",
    "\n",
    "    return ans\n",
    "\n",
    "def can_move_down(cave, rock_shape, x1, x2, y_pos):\n",
    "\n",
    "    y1 = int(min(y_pos))\n",
    "    if y1==0:\n",
    "        return False\n",
    "    old_window = cave[x1:x2+1, y1:y1+rock_shape.shape[1]]\n",
    "    window = cave[x1:x2+1, y1-1:y1-1+rock_shape.shape[1]]\n",
    "    assert window.shape == rock_shape.shape\n",
    "    ans = not (np.bitwise_and(window>0, rock_shape>0).any())\n",
    "\n",
    "    # if (np.bitwise_and(old_window>0, rock_shape>0).any()):\n",
    "    #     print(f'rock is on another rock going down??')\n",
    "    #     visible_cave = cave.copy()\n",
    "    #     visible_cave[x1:x2+1, min(y_pos):min(y_pos)+rock_shape.shape[1]] += 2*rock_shape\n",
    "    #     print(f'with cave {visible_cave[:,:int(max(y_pos)+5)].T[::-1,:]}')\n",
    "    #     print(f'with old window : {old_window}')\n",
    "    #     print(f'with y_pos : {y_pos}')\n",
    "    #     print(f'with x1, x2 : {x1},{x2}')\n",
    "    #     print(f'with shape {rock_shape.T[::-1,:]}')\n",
    "    #     print(f'window is {window.T[::-1,:]}')\n",
    "    #     print(f'can move is {ans}')\n",
    "    #     assert False\n",
    "\n",
    "    return ans"
   ]
  },
  {
   "cell_type": "code",
   "execution_count": 14,
   "metadata": {},
   "outputs": [],
   "source": [
    "jet_idx = -1\n",
    "caves_wrong = []\n",
    "while num_rocks_stopped<2022:\n",
    "    jet_idx = (jet_idx+1)%len(jets)\n",
    "    if is_stopped:\n",
    "        is_stopped = False\n",
    "        current_rock = rock_types[rock_index].copy()\n",
    "        rock_shape = rock_shapes[rock_index]\n",
    "        x1, x2, min_heights, heights = current_rock\n",
    "        y_pos = min_heights+highest_point+3\n",
    "\n",
    "    move_x = jets[jet_idx]\n",
    "    if move_x>0:\n",
    "        if x2<6 and can_move(cave, move_x, rock_shape, x1, x2, y_pos):\n",
    "            x1+=1\n",
    "            x2+=1\n",
    "    else:\n",
    "        if x1>0 and can_move(cave, move_x, rock_shape, x1, x2, y_pos):\n",
    "            x1+=-1\n",
    "            x2+=-1\n",
    "    \n",
    "    movable = can_move_down(cave, rock_shape, x1, x2, y_pos)\n",
    "\n",
    "    # visible_cave = cave.copy()\n",
    "    # visible_cave[x1:x2+1, min(y_pos):min(y_pos)+rock_shape.shape[1]] = 2*rock_shape\n",
    "    # print(f'movable down is {movable}')\n",
    "    # print(f'highest point is {highest_point}')\n",
    "    # print(f'y pos is {y_pos}')\n",
    "    # print(f'CURRENT CAVE : \\n {visible_cave[:,:highest_point+5].T[::-1,:]}')\n",
    "    \n",
    "    if movable:\n",
    "        y_pos = y_pos-1\n",
    "    else:\n",
    "        bottom = min(y_pos)\n",
    "        is_stopped = True\n",
    "        rock_index = (rock_index+1)%5\n",
    "        num_rocks_stopped += 1\n",
    "\n",
    "        cave[x1:x2+1, bottom:bottom+rock_shape.shape[1]] += rock_shape\n",
    "        xs, ys = np.where(cave>0)\n",
    "        highest_point = max(ys)+1\n",
    "        # print(f'cave after stopping : {cave[:,:highest_point+2].T[::-1,:]}')\n",
    "        # print(f'highest point {highest_point}')\n",
    "        # print(f'num moves = {jet_idx+1}')\n",
    "        # print(f'stopping {num_rocks_stopped}th rock {rock_index%5} at h {bottom}')\n",
    "        # caves_wrong.append(cave[:,:highest_point+2].copy())\n"
   ]
  },
  {
   "cell_type": "code",
   "execution_count": 15,
   "metadata": {},
   "outputs": [
    {
     "name": "stdout",
     "output_type": "stream",
     "text": [
      "3181\n",
      "2022\n",
      "3180\n"
     ]
    }
   ],
   "source": [
    "print(highest_point)\n",
    "print(num_rocks_stopped)\n",
    "xs, ys = np.where(cave>0)\n",
    "print(max(ys))"
   ]
  },
  {
   "cell_type": "code",
   "execution_count": 16,
   "metadata": {},
   "outputs": [],
   "source": [
    "def ext_imp_info(cave):\n",
    "    xs, ys = np.where(cave>0)\n",
    "    if len(ys)>0:\n",
    "        ymax = int(max(ys))\n",
    "        diffs = [0,0,0,0,0,0,0]\n",
    "        for x in range(7):\n",
    "            col = cave[x,:]\n",
    "            col_blocked = np.where(col>0)[0].tolist()+[0]\n",
    "            diffs[x] = int(min([ymax-y for y in col_blocked]))\n",
    "        diffs = tuple(diffs)\n",
    "    else:\n",
    "        diffs = (0,0,0,0,0,0,0)\n",
    "    return diffs"
   ]
  },
  {
   "cell_type": "code",
   "execution_count": 17,
   "metadata": {},
   "outputs": [
    {
     "name": "stdout",
     "output_type": "stream",
     "text": [
      "FOUND CYCLE, REMAINING 1398 ROCKS\n"
     ]
    }
   ],
   "source": [
    "num_rocks_to_land = 1000000000000\n",
    "cave = np.zeros((7,10000))\n",
    "highest_point = 0\n",
    "num_rocks_stopped = 0\n",
    "num_rocks_stopped_remaining = 0\n",
    "rock_index = 0\n",
    "is_stopped = True\n",
    "to_stop = False\n",
    "started_remaining = False\n",
    "jet_idx = -1\n",
    "states = []\n",
    "states_val = {}\n",
    "h_by_rocks = {}\n",
    "\n",
    "while not to_stop:\n",
    "\n",
    "    jet_idx = (jet_idx+1)%len(jets)\n",
    "    state = (int(jet_idx), int(rock_index), ext_imp_info(cave))\n",
    "    states.append(state)\n",
    "    h_by_rocks[num_rocks_stopped] = highest_point\n",
    "    if not started_remaining and state in states_val.keys():\n",
    "        recurrent_states = (states_val[state], (num_rocks_stopped, highest_point))\n",
    "        started_remaining = True\n",
    "        rock_cycle = num_rocks_stopped - states_val[state][0]\n",
    "        height_cycle = highest_point - states_val[state][1]\n",
    "        num_cycles = (num_rocks_to_land-num_rocks_stopped)//rock_cycle\n",
    "        remaining_rocks = num_rocks_to_land - num_rocks_stopped - (num_cycles)*rock_cycle\n",
    "        print(f'FOUND CYCLE, REMAINING {remaining_rocks} ROCKS')\n",
    "        # break\n",
    "    states_val[state] = (num_rocks_stopped, highest_point)\n",
    "\n",
    "    if is_stopped:\n",
    "        is_stopped = False\n",
    "        current_rock = rock_types[rock_index].copy()\n",
    "        rock_shape = rock_shapes[rock_index]\n",
    "        x1, x2, min_heights, heights = current_rock\n",
    "        y_pos = min_heights+highest_point+3\n",
    "\n",
    "    move_x = jets[jet_idx]\n",
    "    if move_x>0:\n",
    "        if x2<6 and can_move(cave, move_x, rock_shape, x1, x2, y_pos):\n",
    "            x1+=1\n",
    "            x2+=1\n",
    "    else:\n",
    "        if x1>0 and can_move(cave, move_x, rock_shape, x1, x2, y_pos):\n",
    "            x1+=-1\n",
    "            x2+=-1\n",
    "    \n",
    "    movable = can_move_down(cave, rock_shape, x1, x2, y_pos)\n",
    "    \n",
    "    if movable:\n",
    "        y_pos = y_pos-1\n",
    "    else:\n",
    "        bottom = min(y_pos)\n",
    "        is_stopped = True\n",
    "        rock_index = (rock_index+1)%5\n",
    "        num_rocks_stopped += 1\n",
    "\n",
    "        cave[x1:x2+1, bottom:bottom+rock_shape.shape[1]] += rock_shape\n",
    "        xs, ys = np.where(cave>0)\n",
    "        highest_point = max(ys)+1\n",
    "\n",
    "        if started_remaining:\n",
    "            num_rocks_stopped_remaining += 1\n",
    "            if num_rocks_stopped_remaining>= remaining_rocks:\n",
    "                to_stop=True\n"
   ]
  },
  {
   "cell_type": "code",
   "execution_count": 18,
   "metadata": {},
   "outputs": [
    {
     "name": "stdout",
     "output_type": "stream",
     "text": [
      "5247\n",
      "3325\n",
      "5246\n",
      "1570434782634\n"
     ]
    }
   ],
   "source": [
    "print(highest_point)\n",
    "print(num_rocks_stopped)\n",
    "xs, ys = np.where(cave>0)\n",
    "print(max(ys))\n",
    "\n",
    "height_in_cycle = num_cycles*height_cycle\n",
    "print(height_in_cycle+highest_point)"
   ]
  },
  {
   "cell_type": "code",
   "execution_count": 21,
   "metadata": {},
   "outputs": [
    {
     "name": "stdout",
     "output_type": "stream",
     "text": [
      "((202, 329), (1927, 3038))\n",
      "1570434782634\n",
      "1000000000000\n"
     ]
    }
   ],
   "source": [
    "print(recurrent_states)\n",
    "\n",
    "n_rock1 = recurrent_states[0][0]\n",
    "n_rock2 = recurrent_states[1][0]\n",
    "\n",
    "h1 = recurrent_states[0][1]\n",
    "h2 = recurrent_states[1][1]\n",
    "\n",
    "assert h_by_rocks[n_rock1] == h1\n",
    "assert h_by_rocks[n_rock2] == h2\n",
    "\n",
    "rock_cycle = n_rock2-n_rock1\n",
    "h_cycle = h2-h1\n",
    "\n",
    "tot_h = h1\n",
    "tot_rocks = n_rock1\n",
    "num_cycles = (num_rocks_to_land-n_rock1)//rock_cycle\n",
    "\n",
    "tot_h += h_cycle*num_cycles\n",
    "tot_rocks += rock_cycle*num_cycles\n",
    "\n",
    "remaining_rocks = num_rocks_to_land-tot_rocks\n",
    "assert remaining_rocks<rock_cycle\n",
    "remaining_h = h_by_rocks[n_rock1+remaining_rocks] - h_by_rocks[n_rock1]\n",
    "\n",
    "tot_h += remaining_h\n",
    "tot_rocks += remaining_rocks\n",
    "\n",
    "print(tot_h)\n",
    "print(tot_rocks)"
   ]
  }
 ],
 "metadata": {
  "kernelspec": {
   "display_name": "Python 3.8.13 ('pynupa_course')",
   "language": "python",
   "name": "python3"
  },
  "language_info": {
   "codemirror_mode": {
    "name": "ipython",
    "version": 3
   },
   "file_extension": ".py",
   "mimetype": "text/x-python",
   "name": "python",
   "nbconvert_exporter": "python",
   "pygments_lexer": "ipython3",
   "version": "3.8.13"
  },
  "orig_nbformat": 4,
  "vscode": {
   "interpreter": {
    "hash": "041698afb6ae7f3e3f9037630db0dedb57cb2fdd72f86d54b769ed60ecea8a86"
   }
  }
 },
 "nbformat": 4,
 "nbformat_minor": 2
}
