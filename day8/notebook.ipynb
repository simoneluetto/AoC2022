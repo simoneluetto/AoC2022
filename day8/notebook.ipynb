{
 "cells": [
  {
   "cell_type": "code",
   "execution_count": 16,
   "metadata": {},
   "outputs": [
    {
     "name": "stdout",
     "output_type": "stream",
     "text": [
      "(99, 99)\n",
      "1794\n"
     ]
    }
   ],
   "source": [
    "import string\n",
    "from pathlib import Path\n",
    "from collections import defaultdict\n",
    "import json\n",
    "import numpy as np\n",
    "file = open('./input.txt', 'r')\n",
    "\n",
    "grid = []\n",
    "\n",
    "for line in file.readlines():\n",
    "    line = line.replace('\\n','')\n",
    "    row = [int(l) for l in line]\n",
    "    grid.append(row)\n",
    "\n",
    "grid = np.array(grid)\n",
    "print(grid.shape)\n",
    "\n",
    "visible_num = grid.shape[0]*2 + grid.shape[1]*2 - 4\n",
    "visibles = []\n",
    "for i in range(1,grid.shape[0]-1):\n",
    "    for j in range(1,grid.shape[1]-1):\n",
    "        max_arouds = (grid[:i,j].max(),grid[i+1:,j].max(),grid[i,:j].max(),grid[i,j+1:].max())\n",
    "        if grid[i,j]>min(max_arouds):\n",
    "            visible_num+=1\n",
    "            visibles.append((i,j))\n",
    "            # print(f'({i},{j}) is visible {grid[i,j]}>{max_arouds}')\n",
    "\n",
    "print(visible_num)"
   ]
  },
  {
   "cell_type": "code",
   "execution_count": 17,
   "metadata": {},
   "outputs": [
    {
     "name": "stdout",
     "output_type": "stream",
     "text": [
      "199272\n"
     ]
    }
   ],
   "source": [
    "scenic_scores = np.zeros_like(grid)\n",
    "for i in range(1,grid.shape[0]-1):\n",
    "    for j in range(1,grid.shape[1]-1):\n",
    "\n",
    "        up_score=0        \n",
    "        down_score=0        \n",
    "        left_score=0        \n",
    "        right_score=0\n",
    "        dist=1\n",
    "        while True:\n",
    "            if i-dist<0:\n",
    "                break\n",
    "            up_score+=1\n",
    "            if grid[i-dist,j]>=grid[i,j]:\n",
    "                # print(f'stopping up at dist {dist}, {grid[i-dist,j]}>={grid[i,j]}')\n",
    "                break\n",
    "            dist+=1\n",
    "        dist=1\n",
    "        while True:\n",
    "            if i+dist>=grid.shape[0]:\n",
    "                break\n",
    "            down_score+=1\n",
    "            if grid[i+dist,j]>=grid[i,j]:\n",
    "                # print(f'stopping down at dist {dist}, {grid[i+dist,j]}>={grid[i,j]}')\n",
    "                break\n",
    "            dist+=1\n",
    "        dist=1\n",
    "        while True:\n",
    "            if j-dist<0:\n",
    "                break\n",
    "            left_score+=1\n",
    "            if grid[i,j-dist]>=grid[i,j]:\n",
    "                # print(f'stopping left at dist {dist}, {grid[i,j-dist]}>={grid[i,j]}')\n",
    "                break\n",
    "            dist+=1\n",
    "        dist=1\n",
    "        while True:\n",
    "            if j+dist>=grid.shape[1]:\n",
    "                break\n",
    "            right_score+=1\n",
    "            if grid[i,j+dist]>=grid[i,j]:\n",
    "                # print(f'stopping right at dist {dist}, {grid[i,j+dist]}>={grid[i,j]}')\n",
    "                break\n",
    "            dist+=1\n",
    "        # print(f'spot {i},{j} ha scenic scores {up_score},{down_score},{left_score},{right_score}')\n",
    "        scenic_scores[i,j] = up_score*down_score*left_score*right_score\n",
    "print(scenic_scores.max())"
   ]
  }
 ],
 "metadata": {
  "kernelspec": {
   "display_name": "Python 3.8.13 ('pynupa_course')",
   "language": "python",
   "name": "python3"
  },
  "language_info": {
   "codemirror_mode": {
    "name": "ipython",
    "version": 3
   },
   "file_extension": ".py",
   "mimetype": "text/x-python",
   "name": "python",
   "nbconvert_exporter": "python",
   "pygments_lexer": "ipython3",
   "version": "3.8.13"
  },
  "orig_nbformat": 4,
  "vscode": {
   "interpreter": {
    "hash": "041698afb6ae7f3e3f9037630db0dedb57cb2fdd72f86d54b769ed60ecea8a86"
   }
  }
 },
 "nbformat": 4,
 "nbformat_minor": 2
}
