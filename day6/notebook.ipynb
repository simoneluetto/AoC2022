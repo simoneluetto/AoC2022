{
 "cells": [
  {
   "cell_type": "code",
   "execution_count": 8,
   "metadata": {},
   "outputs": [
    {
     "name": "stdout",
     "output_type": "stream",
     "text": [
      "1655\n"
     ]
    }
   ],
   "source": [
    "import string\n",
    "file = open('./input.txt', 'r')\n",
    "\n",
    "stream = file.readline()\n",
    "# print(stream)\n",
    "for i in range(4,len(stream)):\n",
    "    last_4 = [l for l in stream[i-4:i]]\n",
    "    uniques = set(last_4)\n",
    "    if len(uniques)==4:\n",
    "        print(i)\n",
    "        break\n",
    "    \n",
    "    "
   ]
  },
  {
   "cell_type": "code",
   "execution_count": 9,
   "metadata": {},
   "outputs": [
    {
     "name": "stdout",
     "output_type": "stream",
     "text": [
      "2665\n"
     ]
    }
   ],
   "source": [
    "for i in range(14,len(stream)):\n",
    "    last_14 = [l for l in stream[i-14:i]]\n",
    "    uniques = set(last_14)\n",
    "    if len(uniques)==14:\n",
    "        print(i)\n",
    "        break"
   ]
  }
 ],
 "metadata": {
  "kernelspec": {
   "display_name": "Python 3.8.13 ('pynupa_course')",
   "language": "python",
   "name": "python3"
  },
  "language_info": {
   "codemirror_mode": {
    "name": "ipython",
    "version": 3
   },
   "file_extension": ".py",
   "mimetype": "text/x-python",
   "name": "python",
   "nbconvert_exporter": "python",
   "pygments_lexer": "ipython3",
   "version": "3.8.13"
  },
  "orig_nbformat": 4,
  "vscode": {
   "interpreter": {
    "hash": "041698afb6ae7f3e3f9037630db0dedb57cb2fdd72f86d54b769ed60ecea8a86"
   }
  }
 },
 "nbformat": 4,
 "nbformat_minor": 2
}
