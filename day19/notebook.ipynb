{
 "cells": [
  {
   "cell_type": "code",
   "execution_count": 7,
   "metadata": {},
   "outputs": [
    {
     "data": {
      "text/plain": [
       "{1: (4, 4, 4, 5, 3, 7),\n",
       " 2: (4, 4, 4, 15, 4, 17),\n",
       " 3: (4, 4, 2, 9, 3, 15),\n",
       " 4: (4, 4, 2, 8, 3, 9),\n",
       " 5: (3, 3, 2, 19, 2, 12),\n",
       " 6: (2, 3, 2, 14, 3, 8),\n",
       " 7: (4, 4, 4, 12, 4, 19),\n",
       " 8: (4, 3, 3, 10, 3, 10),\n",
       " 9: (2, 3, 3, 9, 3, 9),\n",
       " 10: (4, 4, 2, 11, 4, 8),\n",
       " 11: (4, 4, 2, 18, 4, 20),\n",
       " 12: (4, 3, 4, 20, 4, 8),\n",
       " 13: (2, 4, 3, 19, 4, 13),\n",
       " 14: (4, 4, 3, 19, 4, 15),\n",
       " 15: (4, 4, 4, 7, 2, 16),\n",
       " 16: (3, 4, 2, 20, 4, 7),\n",
       " 17: (4, 3, 4, 15, 4, 9),\n",
       " 18: (3, 4, 3, 6, 4, 11),\n",
       " 19: (4, 4, 4, 17, 4, 16),\n",
       " 20: (2, 2, 2, 8, 2, 14),\n",
       " 21: (2, 3, 3, 13, 3, 15),\n",
       " 22: (3, 3, 3, 9, 2, 10),\n",
       " 23: (3, 4, 4, 18, 2, 11),\n",
       " 24: (2, 3, 2, 16, 2, 9),\n",
       " 25: (4, 4, 3, 6, 2, 14),\n",
       " 26: (4, 4, 4, 8, 4, 14),\n",
       " 27: (3, 3, 3, 9, 3, 7),\n",
       " 28: (4, 3, 3, 11, 4, 7),\n",
       " 29: (2, 4, 2, 16, 4, 12),\n",
       " 30: (4, 3, 2, 20, 3, 9)}"
      ]
     },
     "execution_count": 7,
     "metadata": {},
     "output_type": "execute_result"
    }
   ],
   "source": [
    "import string\n",
    "from pathlib import Path\n",
    "from collections import defaultdict\n",
    "import json\n",
    "import numpy as np\n",
    "import math\n",
    "from tqdm import tqdm\n",
    "\n",
    "file = open('./input.txt', 'r')\n",
    "\n",
    "blueprints = {}\n",
    "\n",
    "for line in file.readlines():\n",
    "    line = line.replace('\\n','')\n",
    "\n",
    "    blueprint_id, costs = line.split(':')\n",
    "    blueprint_id = int(blueprint_id.replace('Blueprint ',''))\n",
    "\n",
    "    costs = costs.split('.')\n",
    "    costs = [cost.split('costs')[1] for cost in costs if len(cost)>0]\n",
    "\n",
    "    ore_cost = int(costs[0].replace('ore','').strip())\n",
    "    clay_cost = int(costs[1].replace('ore','').strip())\n",
    "    obs_cost = costs[2].split(' and ')\n",
    "    obs_cost = (int(obs_cost[0].replace('ore','').strip()), int(obs_cost[1].replace('clay','').strip()))\n",
    "    geode_cost = costs[3].split(' and ')\n",
    "    geode_cost = (int(geode_cost[0].replace('ore','').strip()), int(geode_cost[1].replace('obsidian','').strip()))\n",
    "\n",
    "    blueprints[blueprint_id] = (ore_cost, clay_cost, obs_cost[0], obs_cost[1], geode_cost[0], geode_cost[1])\n",
    "\n",
    "blueprints\n",
    "# print(json.dumps(blueprints, indent=4))"
   ]
  },
  {
   "cell_type": "code",
   "execution_count": 8,
   "metadata": {},
   "outputs": [],
   "source": [
    "from collections import deque\n",
    "def solve(costs, initial_state=(1,0,0,0,0,0,0,0,24)):\n",
    "    reached_states = deque([initial_state])\n",
    "    seen = set()\n",
    "    best = (0,24)\n",
    "    best_state = initial_state\n",
    "    coo, cco, cOo, cOc, cgo, cgO = costs\n",
    "    max_co = max([coo,cco,cOo,cgo])\n",
    "    max_cc = cOc\n",
    "    max_cO = cgO\n",
    "\n",
    "    while reached_states:\n",
    "        # print(reached_states)\n",
    "        state = reached_states.popleft()\n",
    "        (r1,r2,r3,r4,res1,res2,res3,res4,t) = state\n",
    "        if res4 >= best[0]:\n",
    "            best = (res4,t)\n",
    "            best_state = (r1,r2,r3,r4,res1,res2,res3,res4,t)\n",
    "        if t==0:\n",
    "            continue\n",
    "\n",
    "        r1 = min(r1, max_co)\n",
    "        r2 = min(r2, max_cc)\n",
    "        r3 = min(r3, max_cO)\n",
    "        res1 = min(res1, (t)*max_co)\n",
    "        res2 = min(res2, (t)*max_cc)\n",
    "        res3 = min(res3, (t)*max_cO)\n",
    "\n",
    "        res_state = (r1,r2,r3,r4,res1,res2,res3,res4)\n",
    "        if res_state in seen:\n",
    "            continue\n",
    "        seen.add(res_state)\n",
    "        \n",
    "\n",
    "        collecting_state = (r1,r2,r3,r4,res1+r1,res2+r2,res3+r3,res4+r4,t-1)\n",
    "        reached_states.append(collecting_state)\n",
    "\n",
    "        if res1>=coo:\n",
    "            built_state = (r1+1,r2,r3,r4,res1+r1-coo,res2+r2,res3+r3,res4+r4,t-1)\n",
    "            reached_states.append(built_state)\n",
    "        if res1>=cco:\n",
    "            built_state = (r1,r2+1,r3,r4,res1+r1-cco,res2+r2,res3+r3,res4+r4,t-1)\n",
    "            reached_states.append(built_state)\n",
    "        if res1>=cOo and res2>=cOc:\n",
    "            built_state = (r1,r2,r3+1,r4,res1+r1-cOo,res2+r2-cOc,res3+r3,res4+r4,t-1)\n",
    "            reached_states.append(built_state)\n",
    "        if res1>=cgo and res3>=cgO:\n",
    "            built_state = (r1,r2,r3,r4+1,res1+r1-cgo,res2+r2,res3+r3-cgO,res4+r4,t-1)\n",
    "            reached_states.append(built_state)\n",
    "\n",
    "            \n",
    "    return best, best_state\n"
   ]
  },
  {
   "cell_type": "code",
   "execution_count": 9,
   "metadata": {},
   "outputs": [
    {
     "name": "stderr",
     "output_type": "stream",
     "text": [
      "100%|██████████| 30/30 [00:13<00:00,  2.17it/s]\n"
     ]
    },
    {
     "name": "stdout",
     "output_type": "stream",
     "text": [
      "QUALITY LEVEL : 1981\n"
     ]
    },
    {
     "name": "stderr",
     "output_type": "stream",
     "text": [
      "100%|██████████| 30/30 [00:00<00:00, 57693.31it/s]"
     ]
    },
    {
     "name": "stdout",
     "output_type": "stream",
     "text": [
      "for blueprint 1 best is to collect 9 geodes with 0 minutes left\n",
      "quality = 9\n",
      "final state is (3, 3, 4, 3, 6, 8, 9, 9, 0)\n",
      "for blueprint 2 best is to collect 0 geodes with 0 minutes left\n",
      "quality = 0\n",
      "final state is (1, 3, 2, 0, 4, 15, 10, 0, 0)\n",
      "for blueprint 3 best is to collect 1 geodes with 0 minutes left\n",
      "quality = 3\n",
      "final state is (2, 4, 4, 1, 2, 4, 6, 1, 0)\n",
      "for blueprint 4 best is to collect 4 geodes with 0 minutes left\n",
      "quality = 16\n",
      "final state is (2, 3, 4, 2, 3, 7, 4, 4, 0)\n",
      "for blueprint 5 best is to collect 1 geodes with 0 minutes left\n",
      "quality = 5\n",
      "final state is (3, 11, 3, 1, 4, 11, 4, 1, 0)\n",
      "for blueprint 6 best is to collect 10 geodes with 0 minutes left\n",
      "quality = 60\n",
      "final state is (3, 10, 6, 3, 4, 10, 12, 10, 0)\n",
      "for blueprint 7 best is to collect 0 geodes with 0 minutes left\n",
      "quality = 0\n",
      "final state is (3, 5, 2, 0, 3, 15, 12, 0, 0)\n",
      "for blueprint 8 best is to collect 5 geodes with 0 minutes left\n",
      "quality = 40\n",
      "final state is (3, 6, 5, 2, 3, 6, 8, 5, 0)\n",
      "for blueprint 9 best is to collect 15 geodes with 0 minutes left\n",
      "quality = 135\n",
      "final state is (3, 8, 7, 4, 3, 8, 13, 15, 0)\n",
      "for blueprint 10 best is to collect 3 geodes with 0 minutes left\n",
      "quality = 30\n",
      "final state is (1, 3, 3, 1, 2, 10, 9, 3, 0)\n",
      "for blueprint 11 best is to collect 0 geodes with 0 minutes left\n",
      "quality = 0\n",
      "final state is (1, 4, 2, 0, 4, 14, 10, 0, 0)\n",
      "for blueprint 12 best is to collect 1 geodes with 0 minutes left\n",
      "quality = 12\n",
      "final state is (2, 7, 3, 1, 2, 18, 6, 1, 0)\n",
      "for blueprint 13 best is to collect 2 geodes with 0 minutes left\n",
      "quality = 26\n",
      "final state is (4, 11, 6, 1, 5, 11, 13, 2, 0)\n",
      "for blueprint 14 best is to collect 0 geodes with 0 minutes left\n",
      "quality = 0\n",
      "final state is (1, 4, 2, 0, 2, 11, 8, 0, 0)\n",
      "for blueprint 15 best is to collect 1 geodes with 0 minutes left\n",
      "quality = 15\n",
      "final state is (2, 4, 4, 1, 5, 11, 11, 1, 0)\n",
      "for blueprint 16 best is to collect 2 geodes with 0 minutes left\n",
      "quality = 32\n",
      "final state is (3, 9, 3, 1, 3, 27, 7, 2, 0)\n",
      "for blueprint 17 best is to collect 2 geodes with 0 minutes left\n",
      "quality = 34\n",
      "final state is (1, 3, 2, 1, 3, 18, 7, 2, 0)\n",
      "for blueprint 18 best is to collect 8 geodes with 0 minutes left\n",
      "quality = 144\n",
      "final state is (4, 5, 8, 3, 5, 5, 15, 8, 0)\n",
      "for blueprint 19 best is to collect 0 geodes with 0 minutes left\n",
      "quality = 0\n",
      "final state is (1, 3, 2, 0, 4, 11, 9, 0, 0)\n",
      "for blueprint 20 best is to collect 13 geodes with 0 minutes left\n",
      "quality = 260\n",
      "final state is (2, 8, 8, 3, 2, 8, 20, 13, 0)\n",
      "for blueprint 21 best is to collect 5 geodes with 0 minutes left\n",
      "quality = 105\n",
      "final state is (3, 9, 8, 2, 3, 9, 16, 5, 0)\n",
      "for blueprint 22 best is to collect 7 geodes with 0 minutes left\n",
      "quality = 154\n",
      "final state is (3, 6, 6, 2, 3, 6, 14, 7, 0)\n",
      "for blueprint 23 best is to collect 1 geodes with 0 minutes left\n",
      "quality = 23\n",
      "final state is (4, 11, 4, 1, 4, 11, 6, 1, 0)\n",
      "for blueprint 24 best is to collect 7 geodes with 0 minutes left\n",
      "quality = 168\n",
      "final state is (3, 10, 6, 3, 4, 26, 6, 7, 0)\n",
      "for blueprint 25 best is to collect 3 geodes with 0 minutes left\n",
      "quality = 75\n",
      "final state is (3, 5, 5, 1, 4, 5, 15, 3, 0)\n",
      "for blueprint 26 best is to collect 1 geodes with 0 minutes left\n",
      "quality = 26\n",
      "final state is (3, 4, 4, 1, 3, 10, 10, 1, 0)\n",
      "for blueprint 27 best is to collect 12 geodes with 0 minutes left\n",
      "quality = 324\n",
      "final state is (3, 4, 6, 4, 3, 8, 6, 12, 0)\n",
      "for blueprint 28 best is to collect 6 geodes with 0 minutes left\n",
      "quality = 168\n",
      "final state is (3, 5, 5, 2, 4, 5, 10, 6, 0)\n",
      "for blueprint 29 best is to collect 3 geodes with 0 minutes left\n",
      "quality = 87\n",
      "final state is (4, 10, 6, 2, 4, 23, 6, 3, 0)\n",
      "for blueprint 30 best is to collect 1 geodes with 0 minutes left\n",
      "quality = 30\n",
      "final state is (2, 4, 2, 1, 4, 22, 4, 1, 0)\n"
     ]
    },
    {
     "name": "stderr",
     "output_type": "stream",
     "text": [
      "\n"
     ]
    }
   ],
   "source": [
    "max_minutes = 24\n",
    "initial_state = (1,0,0,0,0,0,0,0, max_minutes)\n",
    "reached_states = []\n",
    "quality_level = 0\n",
    "blueprints_bests = {}\n",
    "for blueprint_id, costs in tqdm(blueprints.items()):\n",
    "\n",
    "    best, best_state = solve(costs, initial_state=initial_state)\n",
    "\n",
    "    blueprints_bests[blueprint_id] = (best, best_state)\n",
    "    quality_level += blueprint_id*best[0]\n",
    "        \n",
    "print(f'QUALITY LEVEL : {quality_level}')\n",
    "for blueprint_id, (best,best_state) in tqdm(blueprints_bests.items()):\n",
    "    print(f'for blueprint {blueprint_id} best is to collect {best[0]} geodes with {best[1]} minutes left')\n",
    "    print(f'quality = {blueprint_id*best[0]}')\n",
    "    print(f'final state is {best_state}')"
   ]
  },
  {
   "cell_type": "code",
   "execution_count": 12,
   "metadata": {},
   "outputs": [
    {
     "name": "stdout",
     "output_type": "stream",
     "text": [
      "RESULT : 10962\n"
     ]
    },
    {
     "name": "stderr",
     "output_type": "stream",
     "text": [
      "100%|██████████| 3/3 [00:00<00:00, 32682.89it/s]"
     ]
    },
    {
     "name": "stdout",
     "output_type": "stream",
     "text": [
      "for blueprint 1 best is to collect 58 geodes with 0 minutes left\n",
      "final state is (3, 3, 7, 10, 3, 8, 7, 58, 0)\n",
      "for blueprint 2 best is to collect 9 geodes with 0 minutes left\n",
      "final state is (4, 10, 9, 3, 4, 23, 9, 9, 0)\n",
      "for blueprint 3 best is to collect 21 geodes with 0 minutes left\n",
      "final state is (3, 7, 10, 5, 4, 16, 10, 21, 0)\n"
     ]
    },
    {
     "name": "stderr",
     "output_type": "stream",
     "text": [
      "\n"
     ]
    }
   ],
   "source": [
    "max_minutes = 32\n",
    "initial_state = (1,0,0,0,0,0,0,0, max_minutes)\n",
    "reached_states = []\n",
    "ans = 1\n",
    "blueprints_bests = {}\n",
    "for blueprint_id, costs in tqdm(blueprints.items()):\n",
    "\n",
    "    if blueprint_id>3:\n",
    "        break\n",
    "    best, best_state = solve(costs, initial_state=initial_state)\n",
    "\n",
    "    blueprints_bests[blueprint_id] = (best, best_state)\n",
    "    ans = ans*best[0]\n",
    "        \n",
    "print(f'RESULT : {ans}')\n",
    "for blueprint_id, (best,best_state) in tqdm(blueprints_bests.items()):\n",
    "    print(f'for blueprint {blueprint_id} best is to collect {best[0]} geodes with {best[1]} minutes left')\n",
    "    print(f'final state is {best_state}')"
   ]
  }
 ],
 "metadata": {
  "kernelspec": {
   "display_name": "Python 3.8.13 ('pynupa_course')",
   "language": "python",
   "name": "python3"
  },
  "language_info": {
   "codemirror_mode": {
    "name": "ipython",
    "version": 3
   },
   "file_extension": ".py",
   "mimetype": "text/x-python",
   "name": "python",
   "nbconvert_exporter": "python",
   "pygments_lexer": "ipython3",
   "version": "3.8.13"
  },
  "orig_nbformat": 4,
  "vscode": {
   "interpreter": {
    "hash": "041698afb6ae7f3e3f9037630db0dedb57cb2fdd72f86d54b769ed60ecea8a86"
   }
  }
 },
 "nbformat": 4,
 "nbformat_minor": 2
}
