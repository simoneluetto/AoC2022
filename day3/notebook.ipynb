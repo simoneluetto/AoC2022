{
 "cells": [
  {
   "cell_type": "code",
   "execution_count": 3,
   "metadata": {},
   "outputs": [
    {
     "name": "stdout",
     "output_type": "stream",
     "text": [
      "7674\n"
     ]
    }
   ],
   "source": [
    "import string\n",
    "file = open('./input.txt', 'r')\n",
    "\n",
    "compartments = []\n",
    "commons = []\n",
    "priority_dict = {l:i+1 for i,l in enumerate(string.ascii_letters)}\n",
    "\n",
    "for line in file.readlines():\n",
    "    line = line.strip('\\n')\n",
    "    items = [letter for letter in line]\n",
    "    assert len(items)%2==0\n",
    "    comp1 = items[:int(len(items)/2)]\n",
    "    comp2 = items[int(len(items)/2):]\n",
    "    compartments.append((comp1,comp2))\n",
    "    common = set(comp1).intersection(comp2)\n",
    "    assert len(common)==1\n",
    "    commons.append(list(common)[0])\n",
    "    \n",
    "priorities = [priority_dict[l] for l in commons]\n",
    "\n",
    "print(sum(priorities))\n",
    "            \n",
    "\n"
   ]
  },
  {
   "cell_type": "code",
   "execution_count": 4,
   "metadata": {},
   "outputs": [
    {
     "name": "stdout",
     "output_type": "stream",
     "text": [
      "2805\n"
     ]
    }
   ],
   "source": [
    "rucksacks = [comp1+comp2 for (comp1,comp2) in compartments]\n",
    "badges = []\n",
    "for i in range(0,len(rucksacks),3):\n",
    "\n",
    "    common = set(rucksacks[i]).intersection(rucksacks[i+1]).intersection(rucksacks[i+2])\n",
    "    assert len(common)==1\n",
    "    badges.append(list(common)[0])\n",
    "\n",
    "priorities = [priority_dict[l] for l in badges]\n",
    "\n",
    "print(sum(priorities))"
   ]
  }
 ],
 "metadata": {
  "kernelspec": {
   "display_name": "Python 3.8.13 ('pynupa_course')",
   "language": "python",
   "name": "python3"
  },
  "language_info": {
   "codemirror_mode": {
    "name": "ipython",
    "version": 3
   },
   "file_extension": ".py",
   "mimetype": "text/x-python",
   "name": "python",
   "nbconvert_exporter": "python",
   "pygments_lexer": "ipython3",
   "version": "3.8.13"
  },
  "orig_nbformat": 4,
  "vscode": {
   "interpreter": {
    "hash": "041698afb6ae7f3e3f9037630db0dedb57cb2fdd72f86d54b769ed60ecea8a86"
   }
  }
 },
 "nbformat": 4,
 "nbformat_minor": 2
}
