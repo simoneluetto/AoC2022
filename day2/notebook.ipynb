{
 "cells": [
  {
   "cell_type": "code",
   "execution_count": 5,
   "metadata": {},
   "outputs": [
    {
     "name": "stdout",
     "output_type": "stream",
     "text": [
      "17189\n"
     ]
    }
   ],
   "source": [
    "file = open('./input.txt', 'r')\n",
    "\n",
    "rounds = []\n",
    "scores = []\n",
    "\n",
    "for line in file.readlines():\n",
    "    line = line.strip('\\n')\n",
    "    val = line.split(' ')\n",
    "    rounds.append(val)\n",
    "    if val[0] not in ['A', 'B', 'C']:\n",
    "        assert False, f'wrong first val {val}'\n",
    "    if val[1] not in ['X', 'Y', 'Z']:\n",
    "        assert False, f'wrong second val {val}'\n",
    "\n",
    "    score = 0\n",
    "    if val[1]=='X':\n",
    "        score+=1\n",
    "        if val[0]=='A':\n",
    "            score+=3\n",
    "        elif val[0]=='C':\n",
    "            score+=6\n",
    "    elif val[1]=='Y':\n",
    "        score+=2\n",
    "        if val[0]=='B':\n",
    "            score+=3\n",
    "        elif val[0]=='A':\n",
    "            score+=6\n",
    "    elif val[1]=='Z':\n",
    "        score+=3\n",
    "        if val[0]=='C':\n",
    "            score+=3\n",
    "        elif val[0]=='B':\n",
    "            score+=6\n",
    "    scores.append(score)\n",
    "\n",
    "print(sum(scores))\n",
    "            \n",
    "\n"
   ]
  },
  {
   "cell_type": "code",
   "execution_count": 6,
   "metadata": {},
   "outputs": [
    {
     "name": "stdout",
     "output_type": "stream",
     "text": [
      "13490\n"
     ]
    }
   ],
   "source": [
    "file = open('./input.txt', 'r')\n",
    "\n",
    "rounds = []\n",
    "scores = []\n",
    "\n",
    "for line in file.readlines():\n",
    "    line = line.strip('\\n')\n",
    "    val = line.split(' ')\n",
    "    rounds.append(val)\n",
    "    if val[0] not in ['A', 'B', 'C']:\n",
    "        assert False, f'wrong first val {val}'\n",
    "    if val[1] not in ['X', 'Y', 'Z']:\n",
    "        assert False, f'wrong second val {val}'\n",
    "\n",
    "    score = 0\n",
    "    if val[1]=='X':\n",
    "        score+=0\n",
    "        if val[0]=='A':\n",
    "            score+=3\n",
    "        elif val[0]=='B':\n",
    "            score+=1\n",
    "        elif val[0]=='C':\n",
    "            score+=2\n",
    "    elif val[1]=='Y':\n",
    "        score+=3\n",
    "        if val[0]=='A':\n",
    "            score+=1\n",
    "        elif val[0]=='B':\n",
    "            score+=2\n",
    "        elif val[0]=='C':\n",
    "            score+=3\n",
    "    elif val[1]=='Z':\n",
    "        score+=6\n",
    "        if val[0]=='A':\n",
    "            score+=2\n",
    "        elif val[0]=='B':\n",
    "            score+=3\n",
    "        elif val[0]=='C':\n",
    "            score+=1\n",
    "    scores.append(score)\n",
    "\n",
    "print(sum(scores))"
   ]
  }
 ],
 "metadata": {
  "kernelspec": {
   "display_name": "Python 3.8.13 ('pynupa_course')",
   "language": "python",
   "name": "python3"
  },
  "language_info": {
   "codemirror_mode": {
    "name": "ipython",
    "version": 3
   },
   "file_extension": ".py",
   "mimetype": "text/x-python",
   "name": "python",
   "nbconvert_exporter": "python",
   "pygments_lexer": "ipython3",
   "version": "3.8.13"
  },
  "orig_nbformat": 4,
  "vscode": {
   "interpreter": {
    "hash": "041698afb6ae7f3e3f9037630db0dedb57cb2fdd72f86d54b769ed60ecea8a86"
   }
  }
 },
 "nbformat": 4,
 "nbformat_minor": 2
}
