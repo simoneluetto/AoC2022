{
 "cells": [
  {
   "cell_type": "code",
   "execution_count": 2,
   "metadata": {},
   "outputs": [
    {
     "name": "stdout",
     "output_type": "stream",
     "text": [
      "15880\n"
     ]
    }
   ],
   "source": [
    "import string\n",
    "from pathlib import Path\n",
    "from collections import defaultdict\n",
    "import json\n",
    "import numpy as np\n",
    "file = open('./input.txt', 'r')\n",
    "\n",
    "cycle_values = [1]\n",
    "interesting_cycles = [20,60,100,140,180,220]\n",
    "current_value = 1\n",
    "\n",
    "for line in file.readlines():\n",
    "    line = line.replace('\\n','')\n",
    "    if line.startswith('noop'):\n",
    "        cycle_values.append(current_value)\n",
    "    else:\n",
    "        _, num = line.split(' ')\n",
    "        cycle_values.append(current_value)\n",
    "        current_value += int(num)\n",
    "        cycle_values.append(current_value)\n",
    "    \n",
    "# print(cycle_values)\n",
    "tot_strenght = 0\n",
    "for cycle in interesting_cycles:\n",
    "    strenght = cycle * cycle_values[cycle-1]\n",
    "    tot_strenght += strenght\n",
    "\n",
    "print(tot_strenght)\n"
   ]
  },
  {
   "cell_type": "code",
   "execution_count": 12,
   "metadata": {},
   "outputs": [
    {
     "name": "stdout",
     "output_type": "stream",
     "text": [
      "241\n",
      "40\n",
      "-1\n",
      "\n",
      "###  #     ##  #### #  #  ##  ####  ##  \n",
      "#  # #    #  # #    # #  #  #    # #  # \n",
      "#  # #    #    ###  ##   #  #   #  #    \n",
      "###  #    # ## #    # #  ####  #   # ## \n",
      "#    #    #  # #    # #  #  # #    #  # \n",
      "#    ####  ### #    #  # #  # ####  ### \n",
      " \n"
     ]
    }
   ],
   "source": [
    "print(len(cycle_values))\n",
    "print(max(cycle_values))\n",
    "print(min(cycle_values))\n",
    "strings = ''\n",
    "for i in range(241):\n",
    "    idx = i%40\n",
    "    if idx==0:\n",
    "        strings += '\\n'\n",
    "    if idx>=cycle_values[i]-1 and idx<=cycle_values[i]+1:\n",
    "        strings += '#'\n",
    "    else:\n",
    "        strings += ' '\n",
    "print(strings)"
   ]
  }
 ],
 "metadata": {
  "kernelspec": {
   "display_name": "Python 3.8.13 ('pynupa_course')",
   "language": "python",
   "name": "python3"
  },
  "language_info": {
   "codemirror_mode": {
    "name": "ipython",
    "version": 3
   },
   "file_extension": ".py",
   "mimetype": "text/x-python",
   "name": "python",
   "nbconvert_exporter": "python",
   "pygments_lexer": "ipython3",
   "version": "3.8.13"
  },
  "orig_nbformat": 4,
  "vscode": {
   "interpreter": {
    "hash": "041698afb6ae7f3e3f9037630db0dedb57cb2fdd72f86d54b769ed60ecea8a86"
   }
  }
 },
 "nbformat": 4,
 "nbformat_minor": 2
}
