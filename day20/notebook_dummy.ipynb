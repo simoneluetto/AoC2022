{
 "cells": [
  {
   "cell_type": "code",
   "execution_count": 21,
   "metadata": {},
   "outputs": [],
   "source": [
    "import string\n",
    "from pathlib import Path\n",
    "from collections import defaultdict\n",
    "import json\n",
    "import numpy as np\n",
    "import math\n",
    "from tqdm import tqdm\n",
    "\n",
    "numbers = [1,2,-3,3,-2,0,4]\n",
    "order = [0,1,2,3,4,5,6]\n",
    "    \n",
    "original_numbers = numbers.copy()\n",
    "original_order = order.copy()"
   ]
  },
  {
   "cell_type": "code",
   "execution_count": 22,
   "metadata": {},
   "outputs": [],
   "source": [
    "from collections import deque\n",
    "def move_num(numbers: list, order: list, idx: int):\n",
    "    \n",
    "    n_idx = order.index(idx)\n",
    "    n = numbers.pop(n_idx)\n",
    "    _ = order.pop(n_idx)\n",
    "    new_idx = (n_idx + n)%len(numbers)\n",
    "    numbers.insert(new_idx, n)\n",
    "    order.insert(new_idx, idx)\n",
    "\n",
    "    # print(f'moving {idx}th num, that is {n}')\n",
    "\n",
    "    return numbers, order\n",
    "\n"
   ]
  },
  {
   "cell_type": "code",
   "execution_count": 23,
   "metadata": {},
   "outputs": [
    {
     "name": "stdout",
     "output_type": "stream",
     "text": [
      "4 -3 2\n",
      "3\n"
     ]
    }
   ],
   "source": [
    "# numbers = [3,6,2,1,4,2]\n",
    "# order = [0,1,2,3,4,5]\n",
    "length = len(numbers)\n",
    "\n",
    "for i in range(len(order)):\n",
    "\n",
    "    numbers, order = move_num(numbers, order, i)\n",
    "    all_orders = set(order)\n",
    "    th_order = set(list(range(length)))\n",
    "    assert all_orders == th_order, f'at step {i}: \\n{th_order.difference(all_orders)} missing \\n{all_orders.difference(th_order)} more'\n",
    "\n",
    "# print(order)\n",
    "# print(numbers)\n",
    "\n",
    "n0 = numbers.index(0)\n",
    "idx1 = (n0+1000)%len(numbers)\n",
    "idx2 = (n0+2000)%len(numbers)\n",
    "idx3 = (n0+3000)%len(numbers)\n",
    "n1 = numbers[idx1]\n",
    "n2 = numbers[idx2]\n",
    "n3 = numbers[idx3]\n",
    "print(n1,n2,n3)\n",
    "print(n1+n2+n3)\n"
   ]
  },
  {
   "cell_type": "code",
   "execution_count": 24,
   "metadata": {},
   "outputs": [],
   "source": [
    "from collections import deque\n",
    "def move_num_multiplier(numbers: list, or_numbers: list, order: list, idx: int):\n",
    "    \n",
    "    n_idx = order.index(idx)\n",
    "    n = (numbers.pop(n_idx))\n",
    "    on = (or_numbers.pop(n_idx))\n",
    "    o = order.pop(n_idx)\n",
    "    new_idx = (n_idx + n)%len(numbers)\n",
    "    numbers.insert(new_idx, n)\n",
    "    or_numbers.insert(new_idx, on)\n",
    "    order.insert(new_idx, o)\n",
    "\n",
    "    return numbers, or_numbers, order\n",
    "\n"
   ]
  },
  {
   "cell_type": "code",
   "execution_count": 25,
   "metadata": {},
   "outputs": [
    {
     "name": "stdout",
     "output_type": "stream",
     "text": [
      "starting: [811589153, 1623178306, -2434767459, 2434767459, -1623178306, 0, 3246356612]\n",
      "round 1 : [0, -2434767459, 3246356612, -1623178306, 2434767459, 1623178306, 811589153]\n",
      "round 1 : [0, -2434767459, 3246356612, -1623178306, 2434767459, 1623178306, 811589153]\n",
      "round 2 : [0, 2434767459, 1623178306, 3246356612, -2434767459, -1623178306, 811589153]\n",
      "round 2 : [0, 2434767459, 1623178306, 3246356612, -2434767459, -1623178306, 811589153]\n",
      "round 3 : [2434767459, 3246356612, 1623178306, -1623178306, -2434767459, 0, 811589153]\n",
      "round 3 : [2434767459, 3246356612, 1623178306, -1623178306, -2434767459, 0, 811589153]\n",
      "round 4 : [0, 1623178306, -2434767459, 811589153, 2434767459, 3246356612, -1623178306]\n",
      "round 4 : [0, 1623178306, -2434767459, 811589153, 2434767459, 3246356612, -1623178306]\n",
      "round 5 : [0, 811589153, -1623178306, 1623178306, -2434767459, 3246356612, 2434767459]\n",
      "round 5 : [0, 811589153, -1623178306, 1623178306, -2434767459, 3246356612, 2434767459]\n",
      "round 6 : [811589153, -1623178306, 3246356612, -2434767459, 1623178306, 2434767459, 0]\n",
      "round 6 : [811589153, -1623178306, 3246356612, -2434767459, 1623178306, 2434767459, 0]\n",
      "round 7 : [3246356612, 0, -2434767459, 2434767459, 1623178306, -1623178306, 811589153]\n",
      "round 7 : [3246356612, 0, -2434767459, 2434767459, 1623178306, -1623178306, 811589153]\n",
      "round 8 : [-2434767459, 2434767459, -1623178306, 0, 1623178306, 3246356612, 811589153]\n",
      "round 8 : [-2434767459, 2434767459, -1623178306, 0, 1623178306, 3246356612, 811589153]\n",
      "round 9 : [1623178306, -2434767459, 3246356612, 2434767459, -1623178306, 0, 811589153]\n",
      "round 9 : [1623178306, -2434767459, 3246356612, 2434767459, -1623178306, 0, 811589153]\n",
      "round 10 : [0, -2434767459, 1623178306, 3246356612, -1623178306, 2434767459, 811589153]\n",
      "round 10 : [0, -2434767459, 1623178306, 3246356612, -1623178306, 2434767459, 811589153]\n",
      "1 3 -2\n",
      "811589153 2434767459 -1623178306\n",
      "1623178306\n"
     ]
    }
   ],
   "source": [
    "numbers = original_numbers.copy()\n",
    "order = original_order.copy()\n",
    "\n",
    "multiplier = 811589153\n",
    "length = len(numbers)\n",
    "\n",
    "multiplied_numbers = [(n*multiplier) for n in numbers.copy()]\n",
    "print(f'starting: {[n*multiplier for n in numbers]}')\n",
    "\n",
    "for r in range(10):\n",
    "    for i in range(len(order)):\n",
    "\n",
    "        multiplied_numbers, numbers, order = move_num_multiplier(multiplied_numbers, numbers, order, i)\n",
    "\n",
    "        all_orders = set(order)\n",
    "        th_order = set(list(range(length)))\n",
    "        assert all_orders == th_order, f'{th_order.difference(all_orders)} missing \\n{all_orders.difference(th_order)} more'\n",
    "\n",
    "    print(f'round {r+1} : {[n*multiplier for n in numbers]}')\n",
    "    print(f'round {r+1} : {multiplied_numbers}')\n",
    "# print(order)\n",
    "# print(numbers)\n",
    "\n",
    "n0 = numbers.index(0)\n",
    "idx1 = (n0+1000)%len(numbers)\n",
    "idx2 = (n0+2000)%len(numbers)\n",
    "idx3 = (n0+3000)%len(numbers)\n",
    "n1 = numbers[idx1]*multiplier\n",
    "n2 = numbers[idx2]*multiplier\n",
    "n3 = numbers[idx3]*multiplier\n",
    "print(numbers[idx1],numbers[idx2],numbers[idx3])\n",
    "print(n1,n2,n3)\n",
    "print(n1+n2+n3)"
   ]
  }
 ],
 "metadata": {
  "kernelspec": {
   "display_name": "Python 3.8.13 ('pynupa_course')",
   "language": "python",
   "name": "python3"
  },
  "language_info": {
   "codemirror_mode": {
    "name": "ipython",
    "version": 3
   },
   "file_extension": ".py",
   "mimetype": "text/x-python",
   "name": "python",
   "nbconvert_exporter": "python",
   "pygments_lexer": "ipython3",
   "version": "3.8.13"
  },
  "orig_nbformat": 4,
  "vscode": {
   "interpreter": {
    "hash": "041698afb6ae7f3e3f9037630db0dedb57cb2fdd72f86d54b769ed60ecea8a86"
   }
  }
 },
 "nbformat": 4,
 "nbformat_minor": 2
}
