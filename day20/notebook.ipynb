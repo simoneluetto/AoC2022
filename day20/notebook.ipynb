{
 "cells": [
  {
   "cell_type": "code",
   "execution_count": 98,
   "metadata": {},
   "outputs": [],
   "source": [
    "import string\n",
    "from pathlib import Path\n",
    "from collections import defaultdict\n",
    "import json\n",
    "import numpy as np\n",
    "import math\n",
    "from tqdm import tqdm\n",
    "\n",
    "file = open('./input.txt', 'r')\n",
    "\n",
    "numbers = []\n",
    "order = []\n",
    "\n",
    "for line in file.readlines():\n",
    "    line = line.replace('\\n','')\n",
    "\n",
    "    n = int(line)\n",
    "    o = len(order)\n",
    "\n",
    "    numbers.append(n)\n",
    "    order.append(o)\n",
    "    \n",
    "original_numbers = numbers.copy()\n",
    "original_order = order.copy()"
   ]
  },
  {
   "cell_type": "code",
   "execution_count": 99,
   "metadata": {},
   "outputs": [],
   "source": [
    "from collections import deque\n",
    "def move_num(numbers: list, order: list, idx: int):\n",
    "    \n",
    "    n_idx = order.index(idx)\n",
    "    n = numbers.pop(n_idx)\n",
    "    _ = order.pop(n_idx)\n",
    "    new_idx = (n_idx + n)%len(numbers)\n",
    "    numbers.insert(new_idx, n)\n",
    "    order.insert(new_idx, idx)\n",
    "\n",
    "    # print(f'moving {idx}th num, that is {n}')\n",
    "\n",
    "    return numbers, order\n",
    "\n"
   ]
  },
  {
   "cell_type": "code",
   "execution_count": 100,
   "metadata": {},
   "outputs": [
    {
     "name": "stdout",
     "output_type": "stream",
     "text": [
      "5290 -9799 7975\n",
      "3466\n"
     ]
    }
   ],
   "source": [
    "# numbers = [3,6,2,1,4,2]\n",
    "# order = [0,1,2,3,4,5]\n",
    "length = len(numbers)\n",
    "\n",
    "for i in range(len(order)):\n",
    "\n",
    "    numbers, order = move_num(numbers, order, i)\n",
    "    all_orders = set(order)\n",
    "    th_order = set(list(range(length)))\n",
    "    assert all_orders == th_order, f'at step {i}: \\n{th_order.difference(all_orders)} missing \\n{all_orders.difference(th_order)} more'\n",
    "\n",
    "# print(order)\n",
    "# print(numbers)\n",
    "\n",
    "n0 = numbers.index(0)\n",
    "idx1 = (n0+1000)%len(numbers)\n",
    "idx2 = (n0+2000)%len(numbers)\n",
    "idx3 = (n0+3000)%len(numbers)\n",
    "n1 = numbers[idx1]\n",
    "n2 = numbers[idx2]\n",
    "n3 = numbers[idx3]\n",
    "print(n1,n2,n3)\n",
    "print(n1+n2+n3)\n"
   ]
  },
  {
   "cell_type": "code",
   "execution_count": 101,
   "metadata": {},
   "outputs": [],
   "source": [
    "from collections import deque\n",
    "def move_num_multiplier(numbers: list, or_numbers: list, order: list, idx: int):\n",
    "    \n",
    "    n_idx = order.index(idx)\n",
    "    n = (numbers.pop(n_idx))\n",
    "    on = (or_numbers.pop(n_idx))\n",
    "    o = order.pop(n_idx)\n",
    "    new_idx = (n_idx + n)%len(numbers)\n",
    "    numbers.insert(new_idx, n)\n",
    "    or_numbers.insert(new_idx, on)\n",
    "    order.insert(new_idx, o)\n",
    "\n",
    "    return numbers, or_numbers, order\n",
    "\n"
   ]
  },
  {
   "cell_type": "code",
   "execution_count": 102,
   "metadata": {},
   "outputs": [
    {
     "name": "stdout",
     "output_type": "stream",
     "text": [
      "9131 -128 3313\n",
      "7410620556043 -103883411584 2688794863889\n",
      "9995532008348\n"
     ]
    }
   ],
   "source": [
    "numbers = original_numbers.copy()\n",
    "order = original_order.copy()\n",
    "\n",
    "multiplier = 811589153\n",
    "length = len(numbers)\n",
    "\n",
    "multiplied_numbers = [(n*multiplier) for n in numbers.copy()]\n",
    "\n",
    "for _ in range(10):\n",
    "    for i in range(len(order)):\n",
    "\n",
    "        multiplied_numbers, numbers, order = move_num_multiplier(multiplied_numbers, numbers, order, i)\n",
    "\n",
    "        all_orders = set(order)\n",
    "        th_order = set(list(range(length)))\n",
    "        assert all_orders == th_order, f'{th_order.difference(all_orders)} missing \\n{all_orders.difference(th_order)} more'\n",
    "\n",
    "# print(order)\n",
    "# print(numbers)\n",
    "\n",
    "n0 = numbers.index(0)\n",
    "idx1 = (n0+1000)%len(numbers)\n",
    "idx2 = (n0+2000)%len(numbers)\n",
    "idx3 = (n0+3000)%len(numbers)\n",
    "n1 = numbers[idx1]*multiplier\n",
    "n2 = numbers[idx2]*multiplier\n",
    "n3 = numbers[idx3]*multiplier\n",
    "print(numbers[idx1],numbers[idx2],numbers[idx3])\n",
    "print(n1,n2,n3)\n",
    "print(n1+n2+n3)"
   ]
  }
 ],
 "metadata": {
  "kernelspec": {
   "display_name": "Python 3.8.13 ('pynupa_course')",
   "language": "python",
   "name": "python3"
  },
  "language_info": {
   "codemirror_mode": {
    "name": "ipython",
    "version": 3
   },
   "file_extension": ".py",
   "mimetype": "text/x-python",
   "name": "python",
   "nbconvert_exporter": "python",
   "pygments_lexer": "ipython3",
   "version": "3.8.13"
  },
  "orig_nbformat": 4,
  "vscode": {
   "interpreter": {
    "hash": "041698afb6ae7f3e3f9037630db0dedb57cb2fdd72f86d54b769ed60ecea8a86"
   }
  }
 },
 "nbformat": 4,
 "nbformat_minor": 2
}
