{
 "cells": [
  {
   "cell_type": "code",
   "execution_count": 41,
   "metadata": {},
   "outputs": [
    {
     "name": "stdout",
     "output_type": "stream",
     "text": [
      "150\n"
     ]
    }
   ],
   "source": [
    "import string\n",
    "from pathlib import Path\n",
    "from collections import defaultdict\n",
    "import json\n",
    "import numpy as np\n",
    "import math\n",
    "file = open('./input.txt', 'r')\n",
    "\n",
    "pairs = {}\n",
    "pair_index = 1\n",
    "\n",
    "# data = [json.loads(line.strip()) for line in file.readlines() if line.strip() != '']\n",
    "# print(data)\n",
    "\n",
    "def parse_line(line):\n",
    "    parsed = json.loads(line.strip())\n",
    "    return parsed\n",
    "\n",
    "for line in file.readlines():\n",
    "    # line = line.replace('\\n','')\n",
    "    if line.strip()=='':\n",
    "        pair_index+=1\n",
    "    elif pair_index not in pairs.keys():\n",
    "        pairs[pair_index] = {'left': parse_line(line)}\n",
    "    else:\n",
    "        pairs[pair_index]['right'] = parse_line(line)\n",
    "\n",
    "print(len(pairs))\n",
    "for pair_index, pair in pairs.items():\n",
    "    assert len(pair)==2, f'wrong pair {pair_index}: {pair}'"
   ]
  },
  {
   "cell_type": "code",
   "execution_count": 42,
   "metadata": {},
   "outputs": [],
   "source": [
    "def compare(left,right):\n",
    "    if type(left)!=type(right):\n",
    "        if type(left) == list:\n",
    "            right = [right]\n",
    "        elif type(right) == list:\n",
    "            left = [left]\n",
    "\n",
    "    if type(left)==int:\n",
    "        if left<right:\n",
    "            return -1\n",
    "        elif left>right:\n",
    "            return 1\n",
    "    else: #lists\n",
    "        dec = None\n",
    "        if len(left)<len(right):\n",
    "            dec = -1\n",
    "        elif len(left)>len(right):\n",
    "            dec = 1\n",
    "        for v1, v2 in zip(left, right):  \n",
    "            com = compare(v1,v2)\n",
    "            if com is None:  # if both numbers are eq or (lists are the same length and no comparison makes a decision about the order), continue checking next values\n",
    "                continue\n",
    "            else: \n",
    "                return com\n",
    "        return dec       \n"
   ]
  },
  {
   "cell_type": "code",
   "execution_count": 43,
   "metadata": {},
   "outputs": [
    {
     "data": {
      "text/plain": [
       "5659"
      ]
     },
     "execution_count": 43,
     "metadata": {},
     "output_type": "execute_result"
    }
   ],
   "source": [
    "tot=0\n",
    "for pair_index, pair in pairs.items():\n",
    "\n",
    "    left = pair['left']\n",
    "    right = pair['right']\n",
    "\n",
    "    res = compare(left,right)\n",
    "    if res<0:\n",
    "        tot += pair_index\n",
    "\n",
    "tot\n"
   ]
  },
  {
   "cell_type": "code",
   "execution_count": 44,
   "metadata": {},
   "outputs": [
    {
     "name": "stdout",
     "output_type": "stream",
     "text": [
      "300\n",
      "301\n",
      "110\n",
      "201\n",
      "22110\n"
     ]
    }
   ],
   "source": [
    "import functools\n",
    "all_pairs = []\n",
    "for pair_index, pair in pairs.items():\n",
    "    all_pairs.append(pair['left'])\n",
    "    all_pairs.append(pair['right'])\n",
    "\n",
    "all_pairs.append([[2]])\n",
    "all_pairs.append([[6]])\n",
    "print(all_pairs.index([[2]]))\n",
    "print(all_pairs.index([[6]]))\n",
    "all_pairs = sorted(all_pairs, key=functools.cmp_to_key(compare))\n",
    "# all_pairs = sorted(all_pairs, cmp=compare)\n",
    "index1 = all_pairs.index([[2]])+1\n",
    "index2 = all_pairs.index([[6]])+1\n",
    "print(index1)\n",
    "print(index2)\n",
    "print(index1*index2)\n"
   ]
  }
 ],
 "metadata": {
  "kernelspec": {
   "display_name": "Python 3.8.13 ('pynupa_course')",
   "language": "python",
   "name": "python3"
  },
  "language_info": {
   "codemirror_mode": {
    "name": "ipython",
    "version": 3
   },
   "file_extension": ".py",
   "mimetype": "text/x-python",
   "name": "python",
   "nbconvert_exporter": "python",
   "pygments_lexer": "ipython3",
   "version": "3.8.13"
  },
  "orig_nbformat": 4,
  "vscode": {
   "interpreter": {
    "hash": "041698afb6ae7f3e3f9037630db0dedb57cb2fdd72f86d54b769ed60ecea8a86"
   }
  }
 },
 "nbformat": 4,
 "nbformat_minor": 2
}
