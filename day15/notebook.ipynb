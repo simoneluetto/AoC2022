{
 "cells": [
  {
   "cell_type": "code",
   "execution_count": 1,
   "metadata": {},
   "outputs": [
    {
     "name": "stdout",
     "output_type": "stream",
     "text": [
      "num readings = 24\n",
      "grid x is 13166-4044141\n",
      "grid y is -494417-4136840\n"
     ]
    }
   ],
   "source": [
    "import string\n",
    "from pathlib import Path\n",
    "from collections import defaultdict\n",
    "import json\n",
    "import numpy as np\n",
    "import math\n",
    "file = open('./input.txt', 'r')\n",
    "\n",
    "sensors_reading = []\n",
    "all_x = []\n",
    "all_y = []\n",
    "\n",
    "for line in file.readlines():\n",
    "    line = line.replace('\\n','')\n",
    "    # Sensor at x=98246, y=1908027: closest beacon is at x=1076513, y=2000000\n",
    "    substrings = line.split('=')[1:]\n",
    "    sens_x = int(substrings[0].split(',')[0])\n",
    "    sens_y = int(substrings[1].split(':')[0])\n",
    "    beacon_x = int(substrings[2].split(',')[0])\n",
    "    beacon_y = int(substrings[3])    \n",
    "\n",
    "    sensors_reading.append([(sens_x, sens_y), (beacon_x, beacon_y)])\n",
    "    all_x.extend([sens_x, beacon_x])\n",
    "    all_y.extend([sens_y, beacon_y])\n",
    "\n",
    "print(f'num readings = {len(sensors_reading)}')\n",
    "\n",
    "min_x = min(all_x)\n",
    "max_x = max(all_x)\n",
    "min_y = min(all_y)\n",
    "max_y = max(all_y)\n",
    "print(f'grid x is {min_x}-{max_x}')\n",
    "print(f'grid y is {min_y}-{max_y}')\n"
   ]
  },
  {
   "cell_type": "code",
   "execution_count": 2,
   "metadata": {},
   "outputs": [],
   "source": [
    "def manh_dist(p1,p2):\n",
    "    return abs(p1[0]-p2[0])+abs(p1[1]-p2[1])"
   ]
  },
  {
   "cell_type": "code",
   "execution_count": 3,
   "metadata": {},
   "outputs": [
    {
     "name": "stdout",
     "output_type": "stream",
     "text": [
      "for reading num 0, checking pos with x in (-971994-1168486), y in (837787-2978267)\n",
      "for reading num 1, checking pos with x in (992660-1686078), y in (1737144-2430562)\n",
      "for reading num 2, checking pos with x in (-725464-2083818), y in (1602664-4411946)\n",
      "for reading num 3, checking pos with x in (-145377-185901), y in (3812658-4143936)\n",
      "for reading num 4, checking pos with x in (2455040-4065290), y in (1463830-3074080)\n",
      "for reading num 5, checking pos with x in (1906683-3248667), y in (2391592-3733576)\n",
      "for reading num 6, checking pos with x in (2883452-4483174), y in (1929276-3528998)\n",
      "for reading num 7, checking pos with x in (-593048-2705872), y in (-1278819-2020101)\n",
      "for reading num 8, checking pos with x in (2731090-2923470), y in (1730905-1923285)\n",
      "for reading num 9, checking pos with x in (13477-3267439), y in (2327543-5581505)\n",
      "for reading num 10, checking pos with x in (883772-3395996), y in (-93923-2418301)\n",
      "for reading num 11, checking pos with x in (2913371-4641529), y in (2850425-4578583)\n",
      "for reading num 12, checking pos with x in (649800-1567968), y in (1967629-2885797)\n",
      "for reading num 13, checking pos with x in (1241256-3487358), y in (-1102383-1143719)\n",
      "for reading num 14, checking pos with x in (2664771-3789033), y in (2276711-3400973)\n",
      "for reading num 15, checking pos with x in (-319788-365396), y in (3461294-4146478)\n",
      "for reading num 16, checking pos with x in (1860860-2572094), y in (2192328-2903562)\n",
      "for reading num 17, checking pos with x in (872958-2508948), y in (1385560-3021550)\n",
      "for reading num 18, checking pos with x in (2639469-3470843), y in (2971125-3802499)\n",
      "for reading num 19, checking pos with x in (1758726-5319266), y in (-1061140-2499400)\n",
      "for reading num 20, checking pos with x in (1917982-2299854), y in (2478477-2860349)\n",
      "for reading num 21, checking pos with x in (3709590-4289962), y in (1754097-2334469)\n",
      "for reading num 22, checking pos with x in (2075987-2293441), y in (2654345-2871799)\n",
      "for reading num 23, checking pos with x in (2000866-3230058), y in (1658957-2888149)\n",
      "5125701\n",
      "5125700\n"
     ]
    }
   ],
   "source": [
    "safe_pos = set()\n",
    "for i, reading in enumerate(sensors_reading):\n",
    "\n",
    "    sens_beac_dist = manh_dist( reading[0],reading[1] )\n",
    "    \n",
    "    min_x = reading[0][0]-sens_beac_dist   \n",
    "    max_x = reading[0][0]+sens_beac_dist    \n",
    "    min_y = reading[0][1]-sens_beac_dist    \n",
    "    max_y = reading[0][1]+sens_beac_dist\n",
    "\n",
    "    # min_x = max(min_x, 0)\n",
    "    # min_y = max(min_y, 0)\n",
    "\n",
    "    print(f'for reading num {i}, checking pos with x in ({min_x}-{max_x}), y in ({min_y}-{max_y})')\n",
    "\n",
    "    if 2000000<min_y or 2000000>max_y:\n",
    "        continue\n",
    "    else:\n",
    "        y = 2000000\n",
    "        for x in range(min_x,max_x+1):\n",
    "            if manh_dist( reading[0], (x,y)) <= sens_beac_dist:\n",
    "                safe_pos.add((x,y))\n",
    "    # for x in range(min_x,max_x+1):\n",
    "    #     for y in range(min_y,max_y+1):\n",
    "    #         if manh_dist( reading[0], (x,y)) < sens_beac_dist:\n",
    "    #             safe_pos.append((x,y))\n",
    "\n",
    "print(len(safe_pos))\n",
    "\n",
    "for reading in sensors_reading:\n",
    "    if reading[1] in safe_pos:\n",
    "        safe_pos.discard(reading[1])\n",
    "\n",
    "print(len(safe_pos))"
   ]
  },
  {
   "cell_type": "code",
   "execution_count": 4,
   "metadata": {},
   "outputs": [
    {
     "name": "stdout",
     "output_type": "stream",
     "text": [
      "for reading num 0, distance from (98246, 1908027) is 1070240\n",
      "for reading num 1, distance from (1339369, 2083853) is 346709\n",
      "for reading num 2, distance from (679177, 3007305) is 1404641\n",
      "for reading num 3, distance from (20262, 3978297) is 165639\n",
      "for reading num 4, distance from (3260165, 2268955) is 805125\n",
      "for reading num 5, distance from (2577675, 3062584) is 670992\n",
      "for reading num 6, distance from (3683313, 2729137) is 799861\n",
      "for reading num 7, distance from (1056412, 370641) is 1649460\n",
      "for reading num 8, distance from (2827280, 1827095) is 96190\n",
      "for reading num 9, distance from (1640458, 3954524) is 1626981\n",
      "for reading num 10, distance from (2139884, 1162189) is 1256112\n",
      "for reading num 11, distance from (3777450, 3714504) is 864079\n",
      "for reading num 12, distance from (1108884, 2426713) is 459084\n",
      "for reading num 13, distance from (2364307, 20668) is 1123051\n",
      "for reading num 14, distance from (3226902, 2838842) is 562131\n",
      "for reading num 15, distance from (22804, 3803886) is 342592\n",
      "for reading num 16, distance from (2216477, 2547945) is 355617\n",
      "for reading num 17, distance from (1690953, 2203555) is 817995\n",
      "for reading num 18, distance from (3055156, 3386812) is 415687\n",
      "for reading num 19, distance from (3538996, 719130) is 1780270\n",
      "for reading num 20, distance from (2108918, 2669413) is 190936\n",
      "for reading num 21, distance from (3999776, 2044283) is 290186\n",
      "for reading num 22, distance from (2184714, 2763072) is 108727\n",
      "for reading num 23, distance from (2615462, 2273553) is 614596\n"
     ]
    },
    {
     "name": "stderr",
     "output_type": "stream",
     "text": [
      " 66%|██████▋   | 2658764/4000001 [00:22<00:11, 120547.23it/s]"
     ]
    },
    {
     "name": "stdout",
     "output_type": "stream",
     "text": [
      "[[0, 2844847], [2844849, 4000000]]\n",
      "the only possible position is (2844848,2658764)\n",
      "tuning frequency is 11379394658764\n"
     ]
    },
    {
     "name": "stderr",
     "output_type": "stream",
     "text": [
      "\n"
     ]
    }
   ],
   "source": [
    "from tqdm import tqdm\n",
    "#possible_pos = np.ones((4000001,4000001), dtype=bool)\n",
    "safe_x = set()\n",
    "safe_y = set()\n",
    "\n",
    "sens_dist = []\n",
    "\n",
    "for i, reading in enumerate(sensors_reading):\n",
    "\n",
    "    sens_beac_dist = manh_dist( reading[0],reading[1] )\n",
    "\n",
    "    sens_dist.append((reading[0],sens_beac_dist))\n",
    "    print(f'for reading num {i}, distance from {reading[0]} is {sens_beac_dist}')\n",
    "\n",
    "    # min_x = reading[0][0]-sens_beac_dist   \n",
    "    # max_x = reading[0][0]+sens_beac_dist    \n",
    "    # min_y = reading[0][1]-sens_beac_dist    \n",
    "    # max_y = reading[0][1]+sens_beac_dist\n",
    "\n",
    "    # min_x = max(min_x, 0)\n",
    "    # min_y = max(min_y, 0)\n",
    "    # max_x = max(max_x, 4000000)\n",
    "    # max_y = max(max_y, 4000000)\n",
    "\n",
    "    # print(f'checking pos with x in ({min_x}-{max_x}), y in ({min_y}-{max_y})')\n",
    "\n",
    "for y in tqdm(range(0,4000001)):\n",
    "    ranges = []\n",
    "    for sens, dist in sens_dist:\n",
    "        range_dim = dist-abs(sens[1]-y)\n",
    "        if range_dim>0:\n",
    "            range_b = (max(0,sens[0]-range_dim), min(4000000,sens[0]+range_dim))\n",
    "            ranges.append(range_b)\n",
    "\n",
    "    glob_range = []\n",
    "    for begin,end in sorted(ranges):\n",
    "        if glob_range and glob_range[-1][1] >= begin - 1:\n",
    "            glob_range[-1][1] = max(glob_range[-1][1],end)\n",
    "        else:\n",
    "            glob_range.append([begin, end])\n",
    "\n",
    "    if len(glob_range)>1:\n",
    "        print(glob_range)\n",
    "        assert len(glob_range)==2\n",
    "        right_x = glob_range[0][1]+1\n",
    "        right_y = y\n",
    "        break\n",
    "    elif glob_range[0][0]>0:\n",
    "        print(glob_range)\n",
    "        assert glob_range[0][0]==1\n",
    "        right_x = 0\n",
    "        right_y = y\n",
    "    elif glob_range[0][1]<4000000:\n",
    "        print(glob_range)\n",
    "        assert glob_range[0][1]==3999999\n",
    "        right_x = 4000000\n",
    "        right_y = y\n",
    "        break\n",
    "\n",
    "print(f'the only possible position is ({right_x},{right_y})')\n",
    "print(f'tuning frequency is {right_x*4000000 + right_y}')\n"
   ]
  }
 ],
 "metadata": {
  "kernelspec": {
   "display_name": "Python 3.8.13 ('pynupa_course')",
   "language": "python",
   "name": "python3"
  },
  "language_info": {
   "codemirror_mode": {
    "name": "ipython",
    "version": 3
   },
   "file_extension": ".py",
   "mimetype": "text/x-python",
   "name": "python",
   "nbconvert_exporter": "python",
   "pygments_lexer": "ipython3",
   "version": "3.8.13"
  },
  "orig_nbformat": 4,
  "vscode": {
   "interpreter": {
    "hash": "041698afb6ae7f3e3f9037630db0dedb57cb2fdd72f86d54b769ed60ecea8a86"
   }
  }
 },
 "nbformat": 4,
 "nbformat_minor": 2
}
