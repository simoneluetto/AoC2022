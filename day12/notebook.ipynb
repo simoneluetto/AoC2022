{
 "cells": [
  {
   "cell_type": "code",
   "execution_count": 19,
   "metadata": {},
   "outputs": [
    {
     "name": "stdout",
     "output_type": "stream",
     "text": [
      "(20, 0)\n",
      "0\n",
      "(20, 136)\n",
      "25\n",
      "(41, 159)\n"
     ]
    }
   ],
   "source": [
    "import string\n",
    "from pathlib import Path\n",
    "from collections import defaultdict\n",
    "import json\n",
    "import numpy as np\n",
    "import math\n",
    "file = open('./input.txt', 'r')\n",
    "\n",
    "height_map = []\n",
    "\n",
    "for i, line in enumerate(file.readlines()):\n",
    "    line = line.replace('\\n','')\n",
    "    heights = [string.ascii_lowercase.index(l) if l not in ['S','E'] else l for l in line]\n",
    "    if 'S' in heights:\n",
    "        j = heights.index('S')\n",
    "        start = (i,j)\n",
    "        heights[j] = 0\n",
    "    if 'E' in heights:\n",
    "        j = heights.index('E')\n",
    "        end = (i,j)\n",
    "        heights[j] = len(string.ascii_lowercase)-1\n",
    "\n",
    "    height_map.append(heights)\n",
    "\n",
    "height_map = np.array(height_map)\n",
    "print(start)\n",
    "print(height_map[start])\n",
    "print(end)\n",
    "print(height_map[end])\n",
    "print(height_map.shape)"
   ]
  },
  {
   "cell_type": "code",
   "execution_count": 20,
   "metadata": {},
   "outputs": [],
   "source": [
    "def get_neighbours(center, shape):\n",
    "\n",
    "    neighs = []\n",
    "    if center[0]>0:\n",
    "        neighs.append( (center[0]-1,center[1]) )\n",
    "    if center[1]>0:\n",
    "        neighs.append( (center[0],center[1]-1) )\n",
    "    if center[0]<shape[0]-1:\n",
    "        neighs.append( (center[0]+1,center[1]) )\n",
    "    if center[1]<shape[1]-1:\n",
    "        neighs.append( (center[0],center[1]+1) )\n",
    "    return neighs"
   ]
  },
  {
   "cell_type": "code",
   "execution_count": 21,
   "metadata": {},
   "outputs": [
    {
     "name": "stdout",
     "output_type": "stream",
     "text": [
      "504\n",
      "[(18, 134), (19, 133), (19, 135), (20, 136), (21, 137), (23, 137), (22, 138)]\n"
     ]
    }
   ],
   "source": [
    "reacheable = {}\n",
    "reached = [start]\n",
    "reacheable[0] = [start]\n",
    "steps_needed = 0\n",
    "while end not in reached:\n",
    "\n",
    "    steps_needed+=1\n",
    "    reacheable[steps_needed] = []\n",
    "    for previous in reacheable[steps_needed-1]:\n",
    "        prev_height = height_map[previous]\n",
    "        for neigh in get_neighbours(previous, height_map.shape):\n",
    "            if neigh not in reached and height_map[neigh]-1<=prev_height:\n",
    "                reacheable[steps_needed].append(neigh)\n",
    "                reached.append(neigh)\n",
    "\n",
    "print(steps_needed)\n",
    "print(reacheable[steps_needed])"
   ]
  },
  {
   "cell_type": "code",
   "execution_count": 23,
   "metadata": {},
   "outputs": [
    {
     "name": "stdout",
     "output_type": "stream",
     "text": [
      "500\n",
      "[(0, 10), (10, 4), (11, 3), (12, 2), (13, 1), (14, 0), (15, 1), (16, 0), (17, 1), (18, 2), (19, 3), (20, 4), (21, 5), (22, 6), (22, 8), (23, 5), (24, 4), (25, 3), (26, 2), (27, 1), (28, 2), (29, 3), (30, 4), (31, 5), (32, 6), (38, 12), (39, 13), (40, 14)]\n"
     ]
    }
   ],
   "source": [
    "reacheable = {}\n",
    "reached = [end]\n",
    "reacheable[0] = [end]\n",
    "steps_needed = 0\n",
    "reached_zero = False\n",
    "\n",
    "while not reached_zero:\n",
    "    steps_needed+=1\n",
    "    reacheable[steps_needed] = []\n",
    "    for previous in reacheable[steps_needed-1]:\n",
    "        prev_height = height_map[previous]\n",
    "        for neigh in get_neighbours(previous, height_map.shape):\n",
    "            if neigh not in reached and height_map[neigh]>=prev_height-1:\n",
    "                reacheable[steps_needed].append(neigh)\n",
    "                reached.append(neigh)\n",
    "                if height_map[neigh]==0:\n",
    "                    reached_zero=True\n",
    "\n",
    "print(steps_needed)\n",
    "print(reacheable[steps_needed])"
   ]
  }
 ],
 "metadata": {
  "kernelspec": {
   "display_name": "Python 3.8.13 ('pynupa_course')",
   "language": "python",
   "name": "python3"
  },
  "language_info": {
   "codemirror_mode": {
    "name": "ipython",
    "version": 3
   },
   "file_extension": ".py",
   "mimetype": "text/x-python",
   "name": "python",
   "nbconvert_exporter": "python",
   "pygments_lexer": "ipython3",
   "version": "3.8.13"
  },
  "orig_nbformat": 4,
  "vscode": {
   "interpreter": {
    "hash": "041698afb6ae7f3e3f9037630db0dedb57cb2fdd72f86d54b769ed60ecea8a86"
   }
  }
 },
 "nbformat": 4,
 "nbformat_minor": 2
}
