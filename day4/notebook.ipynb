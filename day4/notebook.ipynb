{
 "cells": [
  {
   "cell_type": "code",
   "execution_count": 3,
   "metadata": {},
   "outputs": [
    {
     "name": "stdout",
     "output_type": "stream",
     "text": [
      "518\n"
     ]
    }
   ],
   "source": [
    "import string\n",
    "file = open('./input.txt', 'r')\n",
    "\n",
    "contained = []\n",
    "\n",
    "for line in file.readlines():\n",
    "    line = line.strip('\\n')\n",
    "    first, second = line.split(',')\n",
    "    first_start, first_end = int(first.split('-')[0]), int(first.split('-')[1])+1\n",
    "    second_start, second_end = int(second.split('-')[0]), int(second.split('-')[1])+1\n",
    "    assigned_first = set(range(first_start,first_end))\n",
    "    assigned_second = set(range(second_start,second_end))\n",
    "    common = assigned_first.intersection(assigned_second)\n",
    "    if len(common)==min(len(assigned_first), len(assigned_second)):\n",
    "        contained.append((assigned_first,assigned_second))\n",
    "\n",
    "print(len(contained))\n"
   ]
  },
  {
   "cell_type": "code",
   "execution_count": 5,
   "metadata": {},
   "outputs": [
    {
     "name": "stdout",
     "output_type": "stream",
     "text": [
      "909\n"
     ]
    }
   ],
   "source": [
    "overlapped = []\n",
    "file = open('./input.txt', 'r')\n",
    "\n",
    "\n",
    "for line in file.readlines():\n",
    "    line = line.strip('\\n')\n",
    "    first, second = line.split(',')\n",
    "    first_start, first_end = int(first.split('-')[0]), int(first.split('-')[1])+1\n",
    "    second_start, second_end = int(second.split('-')[0]), int(second.split('-')[1])+1\n",
    "    assigned_first = set(range(first_start,first_end))\n",
    "    assigned_second = set(range(second_start,second_end))\n",
    "    common = assigned_first.intersection(assigned_second)\n",
    "    if len(common)>0:\n",
    "        overlapped.append((assigned_first,assigned_second))\n",
    "\n",
    "print(len(overlapped))"
   ]
  }
 ],
 "metadata": {
  "kernelspec": {
   "display_name": "Python 3.8.13 ('pynupa_course')",
   "language": "python",
   "name": "python3"
  },
  "language_info": {
   "codemirror_mode": {
    "name": "ipython",
    "version": 3
   },
   "file_extension": ".py",
   "mimetype": "text/x-python",
   "name": "python",
   "nbconvert_exporter": "python",
   "pygments_lexer": "ipython3",
   "version": "3.8.13"
  },
  "orig_nbformat": 4,
  "vscode": {
   "interpreter": {
    "hash": "041698afb6ae7f3e3f9037630db0dedb57cb2fdd72f86d54b769ed60ecea8a86"
   }
  }
 },
 "nbformat": 4,
 "nbformat_minor": 2
}
