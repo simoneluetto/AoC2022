{
 "cells": [
  {
   "cell_type": "code",
   "execution_count": 19,
   "metadata": {},
   "outputs": [
    {
     "name": "stdout",
     "output_type": "stream",
     "text": [
      "0\n",
      "0\n",
      "0\n",
      "21\n",
      "21\n",
      "21\n",
      "2741\n",
      "2741\n"
     ]
    }
   ],
   "source": [
    "import string\n",
    "from pathlib import Path\n",
    "from collections import defaultdict\n",
    "import json\n",
    "import numpy as np\n",
    "import math\n",
    "file = open('./input.txt', 'r')\n",
    "\n",
    "blocks = set()\n",
    "neighbours = []\n",
    "\n",
    "def compute_neighbours(p):\n",
    "\n",
    "    x,y,z = p\n",
    "    neighbours = {(x-1,y,z),(x+1,y,z),\n",
    "                (x,y-1,z),(x,y+1,z),\n",
    "                (x,y,z-1),(x,y,z+1)}\n",
    "    return neighbours\n",
    "\n",
    "xs,ys,zs = [],[],[]\n",
    "\n",
    "for line in file.readlines():\n",
    "    line = line.replace('\\n','')\n",
    "\n",
    "    x,y,z = (int(p) for p in line.split(','))\n",
    "\n",
    "    xs.append(x)\n",
    "    ys.append(y)\n",
    "    zs.append(z)\n",
    "    blocks.add((x,y,z))\n",
    "    neighbours.append(compute_neighbours((x,y,z)))\n",
    "\n",
    "minx = min(xs)\n",
    "miny = min(ys)\n",
    "minz = min(zs)\n",
    "maxx = max(xs)\n",
    "maxy = max(ys)\n",
    "maxz = max(zs)\n",
    "\n",
    "print(minx)\n",
    "print(miny)\n",
    "print(minz)\n",
    "print(maxx)\n",
    "print(maxy)\n",
    "print(maxz)\n",
    "print(len(blocks))\n",
    "print(len(neighbours))"
   ]
  },
  {
   "cell_type": "code",
   "execution_count": 20,
   "metadata": {},
   "outputs": [
    {
     "name": "stdout",
     "output_type": "stream",
     "text": [
      "4628\n"
     ]
    }
   ],
   "source": [
    "surfaces = []\n",
    "for neigh_set in neighbours.copy():\n",
    "    diff = neigh_set.difference(blocks)\n",
    "    surfaces.extend(list(diff))\n",
    "\n",
    "print(len(surfaces))"
   ]
  },
  {
   "cell_type": "code",
   "execution_count": 21,
   "metadata": {},
   "outputs": [
    {
     "name": "stderr",
     "output_type": "stream",
     "text": [
      "100%|██████████| 2741/2741 [00:10<00:00, 256.38it/s]\n"
     ]
    }
   ],
   "source": [
    "inside_blocks = set()\n",
    "from tqdm import tqdm\n",
    "for neigh_set in tqdm(neighbours.copy()):\n",
    "    diff = neigh_set.difference(blocks)\n",
    "\n",
    "    for cand in diff:\n",
    "        # print(f'cand {cand}')\n",
    "        moves = compute_neighbours(cand)\n",
    "        checked = set()\n",
    "        ended = False\n",
    "        while not ended:\n",
    "            moves = moves.difference(blocks)\n",
    "            moves = moves.difference(checked)\n",
    "            if len(moves)==0:\n",
    "                inside_blocks.add(cand)\n",
    "                ended=True\n",
    "                break\n",
    "            for reached in moves:\n",
    "                if min(reached)<0 or max(reached)>21:\n",
    "                    ended=True\n",
    "            new_moves = set()\n",
    "            for move in moves:\n",
    "                new_moves = new_moves.union(compute_neighbours(move))\n",
    "                new_moves = new_moves.difference(blocks)\n",
    "                new_moves = new_moves.difference(checked)\n",
    "                checked.add(move)\n",
    "            moves = new_moves"
   ]
  },
  {
   "cell_type": "code",
   "execution_count": 22,
   "metadata": {},
   "outputs": [
    {
     "name": "stdout",
     "output_type": "stream",
     "text": [
      "2582\n"
     ]
    }
   ],
   "source": [
    "surfaces = []\n",
    "for neigh_set in neighbours.copy():\n",
    "    diff = neigh_set.difference(blocks)\n",
    "    diff = diff.difference(inside_blocks)\n",
    "    surfaces.extend(list(diff))\n",
    "\n",
    "print(len(surfaces))"
   ]
  },
  {
   "cell_type": "code",
   "execution_count": 23,
   "metadata": {},
   "outputs": [
    {
     "name": "stderr",
     "output_type": "stream",
     "text": [
      "100%|██████████| 2741/2741 [00:10<00:00, 260.68it/s]"
     ]
    },
    {
     "name": "stdout",
     "output_type": "stream",
     "text": [
      "2872\n"
     ]
    },
    {
     "name": "stderr",
     "output_type": "stream",
     "text": [
      "\n"
     ]
    }
   ],
   "source": [
    "exterior_surfaces = []\n",
    "from tqdm import tqdm\n",
    "for neigh_set in tqdm(neighbours.copy()):\n",
    "    diff = neigh_set.difference(blocks)\n",
    "\n",
    "    for cand in diff:\n",
    "        # print(f'cand {cand}')\n",
    "        moves = compute_neighbours(cand)\n",
    "        checked = set()\n",
    "        ended = False\n",
    "        while not ended:\n",
    "            moves = moves.difference(blocks)\n",
    "            moves = moves.difference(checked)\n",
    "            for reached in moves:\n",
    "                if min(reached)<0 or max(reached)>21:\n",
    "                    exterior_surfaces.append(cand)\n",
    "                    ended=True\n",
    "            if len(moves)==0:\n",
    "                ended=True\n",
    "                break\n",
    "            new_moves = set()\n",
    "            for move in moves:\n",
    "                new_moves = new_moves.union(compute_neighbours(move))\n",
    "                new_moves = new_moves.difference(blocks)\n",
    "                new_moves = new_moves.difference(checked)\n",
    "                checked.add(move)\n",
    "            moves = new_moves\n",
    "\n",
    "print(len(exterior_surfaces))"
   ]
  }
 ],
 "metadata": {
  "kernelspec": {
   "display_name": "Python 3.8.13 ('pynupa_course')",
   "language": "python",
   "name": "python3"
  },
  "language_info": {
   "codemirror_mode": {
    "name": "ipython",
    "version": 3
   },
   "file_extension": ".py",
   "mimetype": "text/x-python",
   "name": "python",
   "nbconvert_exporter": "python",
   "pygments_lexer": "ipython3",
   "version": "3.8.13"
  },
  "orig_nbformat": 4,
  "vscode": {
   "interpreter": {
    "hash": "041698afb6ae7f3e3f9037630db0dedb57cb2fdd72f86d54b769ed60ecea8a86"
   }
  }
 },
 "nbformat": 4,
 "nbformat_minor": 2
}
