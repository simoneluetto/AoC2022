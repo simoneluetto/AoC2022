{
 "cells": [
  {
   "cell_type": "code",
   "execution_count": 11,
   "metadata": {},
   "outputs": [
    {
     "name": "stdout",
     "output_type": "stream",
     "text": [
      "11558\n"
     ]
    }
   ],
   "source": [
    "import string\n",
    "from pathlib import Path\n",
    "from collections import defaultdict\n",
    "import json\n",
    "import numpy as np\n",
    "file = open('./input.txt', 'r')\n",
    "\n",
    "moves = []\n",
    "\n",
    "for line in file.readlines():\n",
    "    line = line.replace('\\n','')\n",
    "    direction, times = line.split(' ')\n",
    "    moves += [direction]*int(times)\n",
    "    \n",
    "print(len(moves))\n"
   ]
  },
  {
   "cell_type": "code",
   "execution_count": 12,
   "metadata": {},
   "outputs": [],
   "source": [
    "def move_tail(head_pos, tail_pos):\n",
    "    diff_x = abs(head_pos[0]-tail_pos[0])    \n",
    "    diff_y = abs(head_pos[1]-tail_pos[1])\n",
    "\n",
    "    if max(diff_x,diff_y)<=1:\n",
    "        return tail_pos\n",
    "    elif diff_x==0:\n",
    "        if head_pos[1]>tail_pos[1]:\n",
    "            return (tail_pos[0],tail_pos[1]+1)\n",
    "        else:\n",
    "            return (tail_pos[0],tail_pos[1]-1)\n",
    "    elif diff_y==0:\n",
    "        if head_pos[0]>tail_pos[0]:\n",
    "            return (tail_pos[0]+1,tail_pos[1])\n",
    "        else:\n",
    "            return (tail_pos[0]-1,tail_pos[1])\n",
    "    else:\n",
    "        if head_pos[1]>tail_pos[1] and head_pos[0]>tail_pos[0]:\n",
    "            return (tail_pos[0]+1,tail_pos[1]+1)\n",
    "        elif head_pos[1]>tail_pos[1] and head_pos[0]<tail_pos[0]:\n",
    "            return (tail_pos[0]-1,tail_pos[1]+1)\n",
    "        elif head_pos[1]<tail_pos[1] and head_pos[0]>tail_pos[0]:\n",
    "            return (tail_pos[0]+1,tail_pos[1]-1)\n",
    "        else:\n",
    "            return (tail_pos[0]-1,tail_pos[1]-1)     "
   ]
  },
  {
   "cell_type": "code",
   "execution_count": 13,
   "metadata": {},
   "outputs": [
    {
     "name": "stdout",
     "output_type": "stream",
     "text": [
      "5695\n"
     ]
    }
   ],
   "source": [
    "unique_pos = set()\n",
    "head_pos = (0,0)\n",
    "tail_pos = (0,0)\n",
    "unique_pos.add(tail_pos)\n",
    "\n",
    "for move in moves:\n",
    "    if move == 'R':\n",
    "        head_pos = (head_pos[0]+1,head_pos[1])\n",
    "    elif move == 'L':\n",
    "        head_pos = (head_pos[0]-1,head_pos[1])    \n",
    "    elif move == 'U':\n",
    "        head_pos = (head_pos[0],head_pos[1]+1)    \n",
    "    elif move == 'D':\n",
    "        head_pos = (head_pos[0],head_pos[1]-1)\n",
    "    else:\n",
    "        raise NotImplementedError\n",
    "    \n",
    "    tail_pos = move_tail(head_pos, tail_pos)\n",
    "    # print(tail_pos)\n",
    "    unique_pos.add(tail_pos)\n",
    "\n",
    "print(len(unique_pos))"
   ]
  },
  {
   "cell_type": "code",
   "execution_count": 16,
   "metadata": {},
   "outputs": [
    {
     "name": "stdout",
     "output_type": "stream",
     "text": [
      "[(0, 0), (0, 0), (0, 0), (0, 0), (0, 0), (0, 0), (0, 0), (0, 0), (0, 0), (0, 0)]\n",
      "2434\n"
     ]
    }
   ],
   "source": [
    "unique_pos = set()\n",
    "knot_pos = [(0,0)]*10\n",
    "print(knot_pos)\n",
    "unique_pos.add(knot_pos[-1])\n",
    "\n",
    "for move in moves:\n",
    "    if move == 'R':\n",
    "        knot_pos[0] = (knot_pos[0][0]+1,knot_pos[0][1])\n",
    "    elif move == 'L':\n",
    "        knot_pos[0] = (knot_pos[0][0]-1,knot_pos[0][1])    \n",
    "    elif move == 'U':\n",
    "        knot_pos[0] = (knot_pos[0][0],knot_pos[0][1]+1)    \n",
    "    elif move == 'D':\n",
    "        knot_pos[0] = (knot_pos[0][0],knot_pos[0][1]-1)\n",
    "    else:\n",
    "        raise NotImplementedError\n",
    "    \n",
    "    for i in range(len(knot_pos)-1):\n",
    "        head_pos = knot_pos[i]\n",
    "        tail_pos = knot_pos[i+1]\n",
    "        tail_pos = move_tail(head_pos, tail_pos)\n",
    "        knot_pos[i+1] = tail_pos\n",
    "\n",
    "    unique_pos.add(knot_pos[-1])\n",
    "\n",
    "print(len(unique_pos))"
   ]
  }
 ],
 "metadata": {
  "kernelspec": {
   "display_name": "Python 3.8.13 ('pynupa_course')",
   "language": "python",
   "name": "python3"
  },
  "language_info": {
   "codemirror_mode": {
    "name": "ipython",
    "version": 3
   },
   "file_extension": ".py",
   "mimetype": "text/x-python",
   "name": "python",
   "nbconvert_exporter": "python",
   "pygments_lexer": "ipython3",
   "version": "3.8.13"
  },
  "orig_nbformat": 4,
  "vscode": {
   "interpreter": {
    "hash": "041698afb6ae7f3e3f9037630db0dedb57cb2fdd72f86d54b769ed60ecea8a86"
   }
  }
 },
 "nbformat": 4,
 "nbformat_minor": 2
}
