{
 "cells": [
  {
   "cell_type": "code",
   "execution_count": 234,
   "metadata": {},
   "outputs": [],
   "source": [
    "import string\n",
    "from pathlib import Path\n",
    "from collections import defaultdict\n",
    "import json\n",
    "import numpy as np\n",
    "import math\n",
    "from tqdm import tqdm\n",
    "\n",
    "file = open('./input.txt', 'r')\n",
    "\n",
    "monkeys = {}\n",
    "monkeys_int = {}\n",
    "\n",
    "for line in file.readlines():\n",
    "    line = line.replace('\\n','')\n",
    "\n",
    "    monkey, operation = line.split(':')\n",
    "    monkey = monkey.strip()\n",
    "    operation = operation.strip()\n",
    "    if len(operation)>=11:\n",
    "        m1, op, m2 = operation.split(' ')\n",
    "        monkeys[monkey] = (m1,op,m2)\n",
    "    else:\n",
    "        res = int(operation)\n",
    "        monkeys_int[monkey] = res"
   ]
  },
  {
   "cell_type": "code",
   "execution_count": 235,
   "metadata": {},
   "outputs": [],
   "source": [
    "def solve(monkey, monkeys, monkeys_int):\n",
    "\n",
    "    if monkey in monkeys_int.keys():\n",
    "        return monkeys_int[monkey]\n",
    "    else:\n",
    "        m1, op, m2 = monkeys[monkey]\n",
    "        if op == '+':\n",
    "            return solve(m1, monkeys, monkeys_int) + solve(m2, monkeys, monkeys_int)\n",
    "        elif op == '-':\n",
    "            return solve(m1, monkeys, monkeys_int) - solve(m2, monkeys, monkeys_int)\n",
    "        elif op == '*':\n",
    "            return solve(m1, monkeys, monkeys_int) * solve(m2, monkeys, monkeys_int)\n",
    "        elif op == '/':\n",
    "            return solve(m1, monkeys, monkeys_int) / solve(m2, monkeys, monkeys_int)\n",
    "        else:\n",
    "            print(f'monkey {monkey} is wrong -> {monkeys[monkey]}')\n",
    "            raise NotImplementedError"
   ]
  },
  {
   "cell_type": "code",
   "execution_count": 236,
   "metadata": {},
   "outputs": [
    {
     "data": {
      "text/plain": [
       "110181395003396.0"
      ]
     },
     "execution_count": 236,
     "metadata": {},
     "output_type": "execute_result"
    }
   ],
   "source": [
    "solve('root', monkeys, monkeys_int)"
   ]
  },
  {
   "cell_type": "code",
   "execution_count": 237,
   "metadata": {},
   "outputs": [],
   "source": [
    "def contains_humn(monkey, monkeys, monkeys_int):\n",
    "\n",
    "    if monkey == 'humn':\n",
    "        return ('HUMN',)\n",
    "    elif monkey in monkeys_int.keys():\n",
    "        return (solve(monkey, monkeys, monkeys_int),)\n",
    "    else:\n",
    "        m1, op, m2 = monkeys[monkey]\n",
    "        ops1 = contains_humn(m1, monkeys, monkeys_int)\n",
    "        ops2 = contains_humn(m2, monkeys, monkeys_int)\n",
    "        if 'HUMN' in ops1:\n",
    "            ans1 = ops1\n",
    "        else:\n",
    "            ans1 = (solve(m1, monkeys, monkeys_int),)\n",
    "        if 'HUMN' in ops2:\n",
    "            ans2 = ops2\n",
    "        else:\n",
    "            ans2 = (solve(m2, monkeys, monkeys_int),)\n",
    "        if 'HUMN' not in ops1 and 'HUMN' not in ops2:\n",
    "            return (solve(monkey, monkeys, monkeys_int),)\n",
    "        return ans1 + (op,) + ans2"
   ]
  },
  {
   "cell_type": "code",
   "execution_count": 238,
   "metadata": {},
   "outputs": [],
   "source": [
    "def operations_humn(monkey, monkeys, monkeys_int):\n",
    "\n",
    "    if monkey == 'humn':\n",
    "        return (1,1)\n",
    "    elif monkey in monkeys_int.keys():\n",
    "        return (0,solve(monkey, monkeys, monkeys_int))\n",
    "    else:\n",
    "        m1, op, m2 = monkeys[monkey]\n",
    "        res1 = operations_humn(m1, monkeys, monkeys_int)\n",
    "        res2 = operations_humn(m2, monkeys, monkeys_int)\n",
    "        if op == '+':\n",
    "            return (res1[0]+res2[0], res1[1]+res2[1])\n",
    "        elif op == '-':\n",
    "            return (res1[0]-res2[0], res1[1]-res2[1])\n",
    "        elif op == '*':\n",
    "            assert res1[0]==0 or res2[0]==0, f'1->{res1}, 2->{res2}'\n",
    "            mult = res1[0]*res2[1] + res2[0]*res1[1]\n",
    "            add = res1[1]*res2[1]\n",
    "            return (mult, add)\n",
    "        elif op == '/':\n",
    "            assert res2[0]==0, f'2->{res2}'\n",
    "            mult = res1[0]/res2[1]\n",
    "            add = res1[1]/res2[1]\n",
    "            return (mult, add)\n",
    "        else:\n",
    "            print(f'monkey {monkey} is wrong -> {monkeys[monkey]}')\n",
    "            raise NotImplementedError"
   ]
  },
  {
   "cell_type": "code",
   "execution_count": 239,
   "metadata": {},
   "outputs": [
    {
     "name": "stdout",
     "output_type": "stream",
     "text": [
      "('tlpd', '+', 'jjmw')\n",
      "927\n",
      "87250326318520.0\n",
      "22931068684876.0\n",
      "(87250326333032.0, '-', 892, '+', 3, '*', 203.0, '+', 660.0, '+', 2, '*', 3, '*', 457.0, '+', 602, '+', 2, '*', 2, '*', 938, '+', 384.0, '+', 388, '+', 3, '*', 583.0, '+', 281.0, '+', 75, '*', 690.0, '+', 2, '*', 'HUMN', '-', 147, '/', 2, '+', 247.0, '/', 2, '-', 668.0, '*', 2, '-', 649.0, '/', 3, '-', 328, '/', 3, '-', 815.0, '/', 5, '+', 825.0, '*', 5, '+', 119, '+', 426, '/', 11, '-', 179, '*', 5, '-', 593.0, '+', 583, '/', 8, '*', 13, '+', 716.0, '/', 2, '-', 5, '-', 815.0, '/', 4, '/', 5, '-', 33, '*', 13, '-', 678.0, '*', 2, '+', 860, '/', 2, '-', 85, '/', 5, '+', 124, '-', 126, '/', 2, '-', 183, '/', 3, '/', 5, '-', 444.0, '*', 6, '*', 2, '+', 808, '/', 2)\n",
      "(22931068684876.0,)\n",
      "(-17.284090909090914, 87250326334525.06)\n",
      "(0.0, 22931068684876.0)\n",
      "humn should be 3721298272958\n",
      "22931068684893.28\n",
      "22931068684876.0\n"
     ]
    }
   ],
   "source": [
    "print(monkeys['root'])\n",
    "print(monkeys_int['humn'])\n",
    "m1, _, m2 = monkeys['root']\n",
    "res1 = solve(m1, monkeys, monkeys_int)\n",
    "res2 = solve(m2, monkeys, monkeys_int)\n",
    "\n",
    "print(res1)\n",
    "print(res2)\n",
    "\n",
    "monkeys_int.pop('humn')\n",
    "\n",
    "print(contains_humn(m1, monkeys, monkeys_int))\n",
    "print(contains_humn(m2, monkeys, monkeys_int))\n",
    "\n",
    "ops1 = operations_humn(m1, monkeys, monkeys_int)\n",
    "ops2 = operations_humn(m2, monkeys, monkeys_int)\n",
    "\n",
    "print(ops1)\n",
    "print(ops2)\n",
    "\n",
    "ans = round((ops2[1]-ops1[1])/(ops1[0]-ops2[0]))\n",
    "print(f'humn should be {ans}')\n",
    "\n",
    "monkeys_int['humn'] = 3721298272959\n",
    "print(solve(m1, monkeys, monkeys_int))\n",
    "print(solve(m2, monkeys, monkeys_int))"
   ]
  }
 ],
 "metadata": {
  "kernelspec": {
   "display_name": "Python 3.8.13 ('pynupa_course')",
   "language": "python",
   "name": "python3"
  },
  "language_info": {
   "codemirror_mode": {
    "name": "ipython",
    "version": 3
   },
   "file_extension": ".py",
   "mimetype": "text/x-python",
   "name": "python",
   "nbconvert_exporter": "python",
   "pygments_lexer": "ipython3",
   "version": "3.8.13"
  },
  "orig_nbformat": 4,
  "vscode": {
   "interpreter": {
    "hash": "041698afb6ae7f3e3f9037630db0dedb57cb2fdd72f86d54b769ed60ecea8a86"
   }
  }
 },
 "nbformat": 4,
 "nbformat_minor": 2
}
